{
 "cells": [
  {
   "cell_type": "code",
   "execution_count": 185,
   "id": "552e9a8d-d689-43ab-9eff-217d011e5520",
   "metadata": {},
   "outputs": [],
   "source": [
    "import pandas as pd\n",
    "import numpy as np\n",
    "import matplotlib.pyplot as plt"
   ]
  },
  {
   "cell_type": "markdown",
   "id": "b09b7d93-e418-4b8a-af8b-1b50f6ea2239",
   "metadata": {},
   "source": [
    "# Explorative Data Analysis "
   ]
  },
  {
   "cell_type": "markdown",
   "id": "2a6b8d0b-8244-406d-9ef9-1a62f1e8ebd4",
   "metadata": {},
   "source": [
    "## Read Data"
   ]
  },
  {
   "cell_type": "code",
   "execution_count": 234,
   "id": "9b4b8e03-d81f-4899-8d2d-6d59028064df",
   "metadata": {
    "tags": []
   },
   "outputs": [
    {
     "name": "stdout",
     "output_type": "stream",
     "text": [
      "There are 2721 observations and 37 features in this dataset.\n",
      "From a rule of thumb, the sample complexity (#observations / #features) is about 74 which is greater than 20. Sample size is enough and we could try to use as many features as possible.\n"
     ]
    }
   ],
   "source": [
    "data = pd.read_csv(\"HY_Universe_corporate bond.csv\")\n",
    "print(\"There are\", data.shape[0], \"observations and\", data.shape[1], \"features in this dataset.\")\n",
    "print(\"From a rule of thumb, the sample complexity (#observations / #features) is about\", round(data.shape[0]/data.shape[1]), \n",
    "      \"which is greater than 20. Sample size is enough and we could try to use as many features as possible.\")"
   ]
  },
  {
   "cell_type": "markdown",
   "id": "181b0a44-f497-4aea-9774-1a4a0da2dffc",
   "metadata": {},
   "source": [
    "## Feature Description\n",
    "- `CUSIP`: unique id of bond.\n",
    "- `Ticker`: unknown categorical data with large size.\n",
    "- `Issue Date` / `Maturity`: the date when bonds were made (pay off).\n",
    "- `1st Call Date`: the earliest date issuer could pay off the bond.\n",
    "- `Moodys`/`S&P`/`Fitch`/`Bloomberg`: rating of bond (categorical). Apply ordinal encoding\n",
    "- `Coupon`: discrete (continuous?). There are mistakes of scale(unit).\n",
    "- `Issued Amount`\n",
    "- `Maturity Type`: Categorical data with samll size. Should check the consistency with 1st Call Date. Apply one-hot encoding.\n",
    "- `Coupon Type`: Categorical data with samll size.\n",
    "- `Maturity At Issue months`: a continuous feature refers to the length of time until a bond reaches maturity. \n",
    "- `Industry`: company's industry. Apply one-hot encoding.\n",
    "- `LiquidityScore`: a continuous feature measures how easily the bond can be bought or sold in the market\n",
    "- `Months in JNK`: number of months that particular bond is in JNK etf pool.\n",
    "- `Months in HYG`: number of months that particular bond is in HYG etf pool.\n",
    "- `Months in Both`: should check the consistency with previous two features.\n",
    "- `IN_ETF`: whether the bond has been in etf pool. Should check the consistency with previous three features.\n",
    "- `LIQ SCORE`: liquidity score, the same as LiquidityScore. (at different scale, check the consystency and could drop one).\n",
    "- `n_trades`: number of trades during life time.\n",
    "- `volume_trades`: total number of shares been traded.\n",
    "- `total_median_size`/`total_mean_size`: the median/mean volume of a single trade.\n",
    "- `n_days_trade`: the number of days that bond had trades. Propotional to liquidity score. Should check the consistency.\n",
    "- `days_diff_max`: maximum interval where no trades happened.\n",
    "- `percent_intra_dealer`: percent of trades that happened between two dealers, rather than between a dealer and an end investor.\n",
    "- `percent_uncapped`: percentage of a bond's trading volume that is not subject to a predetermined maximum limit. A measure of liqudity.\n",
    "- `bond_type`: categorical data with small size, apply one-hot encoding.\n",
    "- `Client_Trade_Percentage`: unknow continuous features scale to [0, 1]. \n",
    "- `weekly_mean_volume`/`weekly_median_volume`/`weekly_max_volume`/`weekly_min_volume`/`weekly_mean_ntrades`/`weekly_median_ntrades`: are measures of volume and trades in week level."
   ]
  },
  {
   "cell_type": "markdown",
   "id": "b3648f4f-67b8-4828-97cb-8fbb7d4e8240",
   "metadata": {},
   "source": [
    "## "
   ]
  },
  {
   "cell_type": "markdown",
   "id": "8a948b12-bab0-442e-916e-f1446d77197d",
   "metadata": {
    "tags": []
   },
   "source": [
    "## Check the Correctness of Data"
   ]
  },
  {
   "cell_type": "markdown",
   "id": "4d5d951e-8d43-436a-ab3e-d944d2a37d27",
   "metadata": {},
   "source": [
    "### Maturity Type and 1st Call Date\n",
    "Callable bond could have 1st call date, other tpyes do not."
   ]
  },
  {
   "cell_type": "code",
   "execution_count": 235,
   "id": "69ea5913-02a9-4040-adaf-637796a143bf",
   "metadata": {},
   "outputs": [
    {
     "name": "stdout",
     "output_type": "stream",
     "text": [
      "Bond types are as follows:  ['CALLABLE' 'AT MATURITY' 'CALL/SINK' 'PERP/CALL' 'CALL/EXT' 'EXTENDIBLE'\n",
      " 'SINKABLE' 'SINK/EXT' 'PUTABLE' 'CALL/REF/SINK' 'NORMAL' 'CALL/PUT']\n"
     ]
    }
   ],
   "source": [
    "print(\"Bond types are as follows: \", data['Maturity Type'].unique())"
   ]
  },
  {
   "cell_type": "code",
   "execution_count": 236,
   "id": "ee57b645-f183-4c38-9d54-eb7c6ad2e2ea",
   "metadata": {},
   "outputs": [
    {
     "data": {
      "text/plain": [
       "array(['PERP/CALL', 'CALL/SINK', 'CALL/EXT'], dtype=object)"
      ]
     },
     "execution_count": 236,
     "metadata": {},
     "output_type": "execute_result"
    }
   ],
   "source": [
    "# Maturity Type and 1st Call Date are good. No non-callale bond have call date.\n",
    "condition1 = data['Maturity Type'] != \"CALLABLE\"\n",
    "condition2 = data[\"1st Call Date\"] != \"Nan\"\n",
    "data.loc[condition1 & condition2, 'Maturity Type'].unique()"
   ]
  },
  {
   "cell_type": "markdown",
   "id": "aa78c548-2fb1-41a9-af7d-ad9726d8dbd7",
   "metadata": {
    "tags": []
   },
   "source": [
    "### LiquidityScore and LIQ SCORE"
   ]
  },
  {
   "cell_type": "code",
   "execution_count": 237,
   "id": "033c3543-1869-488f-80dc-e94324d54be0",
   "metadata": {},
   "outputs": [
    {
     "data": {
      "text/plain": [
       "0       10.891365\n",
       "1       24.625486\n",
       "2       12.841557\n",
       "3       26.226355\n",
       "4       14.138395\n",
       "          ...    \n",
       "2716    16.047078\n",
       "2717    13.633019\n",
       "2718    11.920145\n",
       "2719    11.589039\n",
       "2720    18.350672\n",
       "Name: LiquidityScore, Length: 2721, dtype: float64"
      ]
     },
     "execution_count": 237,
     "metadata": {},
     "output_type": "execute_result"
    }
   ],
   "source": [
    "data[\"LiquidityScore\"]"
   ]
  },
  {
   "cell_type": "code",
   "execution_count": 238,
   "id": "1cff1dfc-b00b-4d4c-be03-39fcedb11c04",
   "metadata": {
    "tags": []
   },
   "outputs": [
    {
     "name": "stdout",
     "output_type": "stream",
     "text": [
      "Total difference of LiquidityScore and LIQ SCORE for 2721 samples are: 6.706200022174591e-07\n"
     ]
    }
   ],
   "source": [
    "# LiquidityScore = LIQ SCORE * 100\n",
    "print(\"Total difference of LiquidityScore and LIQ SCORE for\", data.shape[0], \"samples are:\", \n",
    "      sum(np.abs(data[\"LiquidityScore\"]/100 - data['LIQ SCORE'])))\n",
    "\n",
    "# Thus, drop LiquidityScore\n",
    "data = data.drop(columns = \"LiquidityScore\")"
   ]
  },
  {
   "cell_type": "markdown",
   "id": "e3497a6b-3ba2-4169-b7d6-165c9e36bdc8",
   "metadata": {},
   "source": [
    "### LiquidityScore and percent_uncapped\n",
    "Check the relation of `LIQ SCORE` and `percent_uncapped` to make sure my understand of `percent_uncapped` is correct. <br>\n",
    "From the following plot, we can tell that `percent_uncapped` is an indicator positively correlated to liquidity."
   ]
  },
  {
   "cell_type": "code",
   "execution_count": 239,
   "id": "197c6463-8f28-4326-b8dd-91c26af7cc95",
   "metadata": {
    "tags": []
   },
   "outputs": [
    {
     "data": {
      "image/png": "[encoded data removed]",
      "text/plain": [
       "<Figure size 432x288 with 1 Axes>"
      ]
     },
     "metadata": {
      "needs_background": "light"
     },
     "output_type": "display_data"
    }
   ],
   "source": [
    "from scipy.stats import gaussian_kde\n",
    "xy = np.vstack([data[\"LIQ SCORE\"], data[\"percent_uncapped\"]])\n",
    "z = gaussian_kde(xy)(xy)\n",
    "plt.scatter(data[\"LIQ SCORE\"], data[\"percent_uncapped\"], c=z)\n",
    "plt.xlabel(\"LIQ SCORE\")\n",
    "plt.ylabel(\"percent_uncapped\")\n",
    "plt.show()"
   ]
  },
  {
   "cell_type": "markdown",
   "id": "9889f35e-4911-40af-aa20-8f0fffa1c0db",
   "metadata": {},
   "source": [
    "### ETF Related Features"
   ]
  },
  {
   "cell_type": "markdown",
   "id": "a033f14b-845d-449b-9534-117f11b5d321",
   "metadata": {},
   "source": [
    "1. `Months in Both` should be smaller than or equal to the minimum of `Months in JNK` and `Months in HYG`\n",
    "2. `IN_ETF` is Yes if minimum of `Months in JNK` and `Months in HYG` > 0"
   ]
  },
  {
   "cell_type": "code",
   "execution_count": 240,
   "id": "5e699118-2560-4990-bb3f-83bfa6e4fcd3",
   "metadata": {},
   "outputs": [
    {
     "data": {
      "text/html": [
       "<div>\n",
       "<style scoped>\n",
       "    .dataframe tbody tr th:only-of-type {\n",
       "        vertical-align: middle;\n",
       "    }\n",
       "\n",
       "    .dataframe tbody tr th {\n",
       "        vertical-align: top;\n",
       "    }\n",
       "\n",
       "    .dataframe thead th {\n",
       "        text-align: right;\n",
       "    }\n",
       "</style>\n",
       "<table border=\"1\" class=\"dataframe\">\n",
       "  <thead>\n",
       "    <tr style=\"text-align: right;\">\n",
       "      <th></th>\n",
       "      <th>Months in JNK</th>\n",
       "      <th>Months in HYG</th>\n",
       "      <th>Months in Both</th>\n",
       "    </tr>\n",
       "  </thead>\n",
       "  <tbody>\n",
       "  </tbody>\n",
       "</table>\n",
       "</div>"
      ],
      "text/plain": [
       "Empty DataFrame\n",
       "Columns: [Months in JNK, Months in HYG, Months in Both]\n",
       "Index: []"
      ]
     },
     "execution_count": 240,
     "metadata": {},
     "output_type": "execute_result"
    }
   ],
   "source": [
    "# Convert Months in Both from string to integer\n",
    "data.loc[data['Months in Both']==\"Nan\", \"Months in Both\"] = \"0\"\n",
    "data.loc[data['Months in JNK']==\"Nan\", \"Months in JNK\"] = \"0\"\n",
    "data.loc[data['Months in HYG']==\"Nan\", \"Months in HYG\"] = \"0\"\n",
    "data[\"Months in Both\"] = data[\"Months in Both\"].astype(int)\n",
    "data[\"Months in JNK\"] = data[\"Months in JNK\"].astype(int)\n",
    "data[\"Months in HYG\"] = data[\"Months in HYG\"].astype(int)\n",
    "\n",
    "# `Months in Both` should be smaller than or equal to the minimum of `Months in JNK` and `Months in HYG`\n",
    "condition1 = data.loc[:, [\"Months in JNK\", \"Months in HYG\"]].min(axis = 1) >= data[\"Months in Both\"]\n",
    "\n",
    "# `IN_ETF` is Yes\n",
    "condition2 = data[\"IN_ETF\"] == \"Yes\"\n",
    "\n",
    "# At lease in one of pool\n",
    "condition3 = data.loc[:, [\"Months in JNK\", \"Months in HYG\"]].max(axis = 1) != 0\n",
    "\n",
    "\n",
    "data.loc[~condition1, [\"Months in JNK\", \"Months in HYG\", \"Months in Both\"]]"
   ]
  },
  {
   "cell_type": "code",
   "execution_count": 241,
   "id": "368f7c3a-1e0a-451f-b9a7-b3a7285f807b",
   "metadata": {},
   "outputs": [
    {
     "data": {
      "text/html": [
       "<div>\n",
       "<style scoped>\n",
       "    .dataframe tbody tr th:only-of-type {\n",
       "        vertical-align: middle;\n",
       "    }\n",
       "\n",
       "    .dataframe tbody tr th {\n",
       "        vertical-align: top;\n",
       "    }\n",
       "\n",
       "    .dataframe thead th {\n",
       "        text-align: right;\n",
       "    }\n",
       "</style>\n",
       "<table border=\"1\" class=\"dataframe\">\n",
       "  <thead>\n",
       "    <tr style=\"text-align: right;\">\n",
       "      <th></th>\n",
       "      <th>Months in JNK</th>\n",
       "      <th>Months in HYG</th>\n",
       "      <th>IN_ETF</th>\n",
       "    </tr>\n",
       "  </thead>\n",
       "  <tbody>\n",
       "  </tbody>\n",
       "</table>\n",
       "</div>"
      ],
      "text/plain": [
       "Empty DataFrame\n",
       "Columns: [Months in JNK, Months in HYG, IN_ETF]\n",
       "Index: []"
      ]
     },
     "execution_count": 241,
     "metadata": {},
     "output_type": "execute_result"
    }
   ],
   "source": [
    "# Check whether condition2 and condition3 are not matched\n",
    "data.loc[condition2 != condition3, [\"Months in JNK\", \"Months in HYG\", \"IN_ETF\"]]"
   ]
  },
  {
   "cell_type": "markdown",
   "id": "7164ccbd-8f6f-4f79-96aa-824d6217b2f1",
   "metadata": {},
   "source": [
    "From results above, ETF related features are consistent."
   ]
  },
  {
   "cell_type": "markdown",
   "id": "332993fd-91b5-4204-83ca-9c901f0a3f85",
   "metadata": {},
   "source": [
    "### Coupon"
   ]
  },
  {
   "cell_type": "code",
   "execution_count": 242,
   "id": "8f2ec83d-ac91-4357-8f3b-791d39e1d3e9",
   "metadata": {
    "tags": []
   },
   "outputs": [
    {
     "data": {
      "image/png": "[encoded data removed]",
      "text/plain": [
       "<Figure size 432x288 with 1 Axes>"
      ]
     },
     "metadata": {
      "needs_background": "light"
     },
     "output_type": "display_data"
    }
   ],
   "source": [
    "plt.hist(data[\"Coupon\"])\n",
    "plt.xlabel(\"Coupon\")\n",
    "plt.show()"
   ]
  },
  {
   "cell_type": "markdown",
   "id": "934672d3-c6d3-4271-85e2-3cf092453069",
   "metadata": {},
   "source": [
    "The distribution of coupon should not look like this. There are some extreme values."
   ]
  },
  {
   "cell_type": "code",
   "execution_count": 243,
   "id": "06bb54ef-fbed-4b41-9a05-247a7473172c",
   "metadata": {},
   "outputs": [
    {
     "data": {
      "text/html": [
       "<div>\n",
       "<style scoped>\n",
       "    .dataframe tbody tr th:only-of-type {\n",
       "        vertical-align: middle;\n",
       "    }\n",
       "\n",
       "    .dataframe tbody tr th {\n",
       "        vertical-align: top;\n",
       "    }\n",
       "\n",
       "    .dataframe thead th {\n",
       "        text-align: right;\n",
       "    }\n",
       "</style>\n",
       "<table border=\"1\" class=\"dataframe\">\n",
       "  <thead>\n",
       "    <tr style=\"text-align: right;\">\n",
       "      <th></th>\n",
       "      <th>CUSIP</th>\n",
       "      <th>Ticker</th>\n",
       "      <th>Issue Date</th>\n",
       "      <th>Maturity</th>\n",
       "      <th>1st Call Date</th>\n",
       "      <th>Moodys</th>\n",
       "      <th>S_and_P</th>\n",
       "      <th>Fitch</th>\n",
       "      <th>Bloomberg Composite Rating</th>\n",
       "      <th>Coupon</th>\n",
       "      <th>...</th>\n",
       "      <th>percent_intra_dealer</th>\n",
       "      <th>percent_uncapped</th>\n",
       "      <th>bond_type</th>\n",
       "      <th>Client_Trade_Percentage</th>\n",
       "      <th>weekly_mean_volume</th>\n",
       "      <th>weekly_median_volume</th>\n",
       "      <th>weekly_max_volume</th>\n",
       "      <th>weekly_min_volume</th>\n",
       "      <th>weekly_mean_ntrades</th>\n",
       "      <th>weekly_median_ntrades</th>\n",
       "    </tr>\n",
       "  </thead>\n",
       "  <tbody>\n",
       "    <tr>\n",
       "      <th>393</th>\n",
       "      <td>038521AG5</td>\n",
       "      <td>ARMK</td>\n",
       "      <td>8/22/2007</td>\n",
       "      <td>2/1/2015</td>\n",
       "      <td>Nan</td>\n",
       "      <td>WR</td>\n",
       "      <td>NR</td>\n",
       "      <td>WD</td>\n",
       "      <td>NR</td>\n",
       "      <td>999.0</td>\n",
       "      <td>...</td>\n",
       "      <td>0.201571</td>\n",
       "      <td>0.583770</td>\n",
       "      <td>5</td>\n",
       "      <td>0.340314</td>\n",
       "      <td>2.816663e+06</td>\n",
       "      <td>2000000.0</td>\n",
       "      <td>21500000.0</td>\n",
       "      <td>9000.00</td>\n",
       "      <td>4.292135</td>\n",
       "      <td>1</td>\n",
       "    </tr>\n",
       "    <tr>\n",
       "      <th>435</th>\n",
       "      <td>03969AAF7</td>\n",
       "      <td>ARGID</td>\n",
       "      <td>7/3/2014</td>\n",
       "      <td>12/15/2019</td>\n",
       "      <td>Nan</td>\n",
       "      <td>WR</td>\n",
       "      <td>NR</td>\n",
       "      <td>Nan</td>\n",
       "      <td>NR</td>\n",
       "      <td>999.0</td>\n",
       "      <td>...</td>\n",
       "      <td>0.124046</td>\n",
       "      <td>0.521947</td>\n",
       "      <td>5</td>\n",
       "      <td>0.426527</td>\n",
       "      <td>5.864616e+06</td>\n",
       "      <td>4960000.0</td>\n",
       "      <td>18250000.0</td>\n",
       "      <td>85945.95</td>\n",
       "      <td>7.820896</td>\n",
       "      <td>1</td>\n",
       "    </tr>\n",
       "    <tr>\n",
       "      <th>439</th>\n",
       "      <td>03969AAK6</td>\n",
       "      <td>ARGID</td>\n",
       "      <td>5/16/2016</td>\n",
       "      <td>5/15/2021</td>\n",
       "      <td>Nan</td>\n",
       "      <td>WR</td>\n",
       "      <td>NR</td>\n",
       "      <td>Nan</td>\n",
       "      <td>NR</td>\n",
       "      <td>999.0</td>\n",
       "      <td>...</td>\n",
       "      <td>0.161826</td>\n",
       "      <td>0.468880</td>\n",
       "      <td>5</td>\n",
       "      <td>0.443983</td>\n",
       "      <td>3.658255e+06</td>\n",
       "      <td>2400000.0</td>\n",
       "      <td>39720000.0</td>\n",
       "      <td>200000.00</td>\n",
       "      <td>4.725490</td>\n",
       "      <td>1</td>\n",
       "    </tr>\n",
       "    <tr>\n",
       "      <th>723</th>\n",
       "      <td>085790AP8</td>\n",
       "      <td>BERY</td>\n",
       "      <td>6/10/2008</td>\n",
       "      <td>2/15/2015</td>\n",
       "      <td>Nan</td>\n",
       "      <td>WR</td>\n",
       "      <td>NR</td>\n",
       "      <td>Nan</td>\n",
       "      <td>NR</td>\n",
       "      <td>999.0</td>\n",
       "      <td>...</td>\n",
       "      <td>0.201426</td>\n",
       "      <td>0.458111</td>\n",
       "      <td>5</td>\n",
       "      <td>0.390374</td>\n",
       "      <td>3.947301e+06</td>\n",
       "      <td>3190000.0</td>\n",
       "      <td>19170000.0</td>\n",
       "      <td>40000.00</td>\n",
       "      <td>5.446602</td>\n",
       "      <td>1</td>\n",
       "    </tr>\n",
       "    <tr>\n",
       "      <th>955</th>\n",
       "      <td>126650BK5</td>\n",
       "      <td>CVS</td>\n",
       "      <td>5/25/2007</td>\n",
       "      <td>6/1/2037</td>\n",
       "      <td>Nan</td>\n",
       "      <td>WR</td>\n",
       "      <td>NR</td>\n",
       "      <td>WD</td>\n",
       "      <td>NR</td>\n",
       "      <td>999.0</td>\n",
       "      <td>...</td>\n",
       "      <td>0.367325</td>\n",
       "      <td>1.000000</td>\n",
       "      <td>5</td>\n",
       "      <td>0.382675</td>\n",
       "      <td>8.194727e+05</td>\n",
       "      <td>414000.0</td>\n",
       "      <td>10017000.0</td>\n",
       "      <td>18000.00</td>\n",
       "      <td>16.581818</td>\n",
       "      <td>1</td>\n",
       "    </tr>\n",
       "    <tr>\n",
       "      <th>1022</th>\n",
       "      <td>140661AJ8</td>\n",
       "      <td>BGRP</td>\n",
       "      <td>9/30/2011</td>\n",
       "      <td>9/30/2014</td>\n",
       "      <td>Nan</td>\n",
       "      <td>Nan</td>\n",
       "      <td>Nan</td>\n",
       "      <td>Nan</td>\n",
       "      <td>Nan</td>\n",
       "      <td>999.0</td>\n",
       "      <td>...</td>\n",
       "      <td>0.079208</td>\n",
       "      <td>0.356436</td>\n",
       "      <td>5</td>\n",
       "      <td>0.495050</td>\n",
       "      <td>8.257408e+06</td>\n",
       "      <td>4499500.0</td>\n",
       "      <td>52932000.0</td>\n",
       "      <td>80000.00</td>\n",
       "      <td>11.222222</td>\n",
       "      <td>1</td>\n",
       "    </tr>\n",
       "    <tr>\n",
       "      <th>1023</th>\n",
       "      <td>140661AK5</td>\n",
       "      <td>BGRP</td>\n",
       "      <td>9/30/2011</td>\n",
       "      <td>9/30/2015</td>\n",
       "      <td>Nan</td>\n",
       "      <td>Nan</td>\n",
       "      <td>Nan</td>\n",
       "      <td>Nan</td>\n",
       "      <td>Nan</td>\n",
       "      <td>999.0</td>\n",
       "      <td>...</td>\n",
       "      <td>0.196970</td>\n",
       "      <td>0.509091</td>\n",
       "      <td>5</td>\n",
       "      <td>0.409091</td>\n",
       "      <td>5.899694e+06</td>\n",
       "      <td>3270000.0</td>\n",
       "      <td>34148000.0</td>\n",
       "      <td>18534.00</td>\n",
       "      <td>8.461538</td>\n",
       "      <td>1</td>\n",
       "    </tr>\n",
       "    <tr>\n",
       "      <th>1061</th>\n",
       "      <td>151290BD4</td>\n",
       "      <td>CEMEX</td>\n",
       "      <td>4/5/2011</td>\n",
       "      <td>9/30/2015</td>\n",
       "      <td>Nan</td>\n",
       "      <td>Nan</td>\n",
       "      <td>NR</td>\n",
       "      <td>WD</td>\n",
       "      <td>NR</td>\n",
       "      <td>999.0</td>\n",
       "      <td>...</td>\n",
       "      <td>0.000000</td>\n",
       "      <td>0.300000</td>\n",
       "      <td>5</td>\n",
       "      <td>0.637500</td>\n",
       "      <td>2.072147e+06</td>\n",
       "      <td>1650000.0</td>\n",
       "      <td>6000000.0</td>\n",
       "      <td>300000.00</td>\n",
       "      <td>2.352941</td>\n",
       "      <td>1</td>\n",
       "    </tr>\n",
       "    <tr>\n",
       "      <th>1419</th>\n",
       "      <td>225448AB5</td>\n",
       "      <td>CS</td>\n",
       "      <td>5/15/2007</td>\n",
       "      <td>Nan Field Not Applicable</td>\n",
       "      <td>Nan</td>\n",
       "      <td>WR</td>\n",
       "      <td>NR</td>\n",
       "      <td>WD</td>\n",
       "      <td>NR</td>\n",
       "      <td>999.0</td>\n",
       "      <td>...</td>\n",
       "      <td>0.070175</td>\n",
       "      <td>0.421053</td>\n",
       "      <td>5</td>\n",
       "      <td>0.473684</td>\n",
       "      <td>2.043053e+06</td>\n",
       "      <td>1000000.0</td>\n",
       "      <td>13600000.0</td>\n",
       "      <td>1000.00</td>\n",
       "      <td>3.000000</td>\n",
       "      <td>1</td>\n",
       "    </tr>\n",
       "    <tr>\n",
       "      <th>1547</th>\n",
       "      <td>251528AA3</td>\n",
       "      <td>DB</td>\n",
       "      <td>5/18/1999</td>\n",
       "      <td>Nan Field Not Applicable</td>\n",
       "      <td>Nan</td>\n",
       "      <td>WR</td>\n",
       "      <td>NR</td>\n",
       "      <td>WD</td>\n",
       "      <td>NR</td>\n",
       "      <td>999.0</td>\n",
       "      <td>...</td>\n",
       "      <td>0.428571</td>\n",
       "      <td>0.214286</td>\n",
       "      <td>5</td>\n",
       "      <td>0.428571</td>\n",
       "      <td>2.265400e+06</td>\n",
       "      <td>1109000.0</td>\n",
       "      <td>7000000.0</td>\n",
       "      <td>218000.00</td>\n",
       "      <td>2.800000</td>\n",
       "      <td>1</td>\n",
       "    </tr>\n",
       "    <tr>\n",
       "      <th>2241</th>\n",
       "      <td>524908WZ9</td>\n",
       "      <td>LEH</td>\n",
       "      <td>5/17/2007</td>\n",
       "      <td>Nan Field Not Applicable</td>\n",
       "      <td>10/23/2017</td>\n",
       "      <td>WR</td>\n",
       "      <td>NR</td>\n",
       "      <td>Nan</td>\n",
       "      <td>NR</td>\n",
       "      <td>999.0</td>\n",
       "      <td>...</td>\n",
       "      <td>0.380952</td>\n",
       "      <td>0.714286</td>\n",
       "      <td>5</td>\n",
       "      <td>0.523810</td>\n",
       "      <td>1.243750e+06</td>\n",
       "      <td>915000.0</td>\n",
       "      <td>5340000.0</td>\n",
       "      <td>160000.00</td>\n",
       "      <td>2.625000</td>\n",
       "      <td>1</td>\n",
       "    </tr>\n",
       "  </tbody>\n",
       "</table>\n",
       "<p>11 rows × 36 columns</p>\n",
       "</div>"
      ],
      "text/plain": [
       "          CUSIP Ticker Issue Date                  Maturity 1st Call Date  \\\n",
       "393   038521AG5   ARMK  8/22/2007                  2/1/2015           Nan   \n",
       "435   03969AAF7  ARGID   7/3/2014                12/15/2019           Nan   \n",
       "439   03969AAK6  ARGID  5/16/2016                 5/15/2021           Nan   \n",
       "723   085790AP8   BERY  6/10/2008                 2/15/2015           Nan   \n",
       "955   126650BK5    CVS  5/25/2007                  6/1/2037           Nan   \n",
       "1022  140661AJ8   BGRP  9/30/2011                 9/30/2014           Nan   \n",
       "1023  140661AK5   BGRP  9/30/2011                 9/30/2015           Nan   \n",
       "1061  151290BD4  CEMEX   4/5/2011                 9/30/2015           Nan   \n",
       "1419  225448AB5     CS  5/15/2007  Nan Field Not Applicable           Nan   \n",
       "1547  251528AA3     DB  5/18/1999  Nan Field Not Applicable           Nan   \n",
       "2241  524908WZ9    LEH  5/17/2007  Nan Field Not Applicable    10/23/2017   \n",
       "\n",
       "     Moodys S_and_P Fitch Bloomberg Composite Rating  Coupon  ...  \\\n",
       "393      WR      NR    WD                         NR   999.0  ...   \n",
       "435      WR      NR   Nan                         NR   999.0  ...   \n",
       "439      WR      NR   Nan                         NR   999.0  ...   \n",
       "723      WR      NR   Nan                         NR   999.0  ...   \n",
       "955      WR      NR    WD                         NR   999.0  ...   \n",
       "1022    Nan     Nan   Nan                        Nan   999.0  ...   \n",
       "1023    Nan     Nan   Nan                        Nan   999.0  ...   \n",
       "1061    Nan      NR    WD                         NR   999.0  ...   \n",
       "1419     WR      NR    WD                         NR   999.0  ...   \n",
       "1547     WR      NR    WD                         NR   999.0  ...   \n",
       "2241     WR      NR   Nan                         NR   999.0  ...   \n",
       "\n",
       "      percent_intra_dealer percent_uncapped bond_type  \\\n",
       "393               0.201571         0.583770         5   \n",
       "435               0.124046         0.521947         5   \n",
       "439               0.161826         0.468880         5   \n",
       "723               0.201426         0.458111         5   \n",
       "955               0.367325         1.000000         5   \n",
       "1022              0.079208         0.356436         5   \n",
       "1023              0.196970         0.509091         5   \n",
       "1061              0.000000         0.300000         5   \n",
       "1419              0.070175         0.421053         5   \n",
       "1547              0.428571         0.214286         5   \n",
       "2241              0.380952         0.714286         5   \n",
       "\n",
       "      Client_Trade_Percentage weekly_mean_volume  weekly_median_volume  \\\n",
       "393                  0.340314       2.816663e+06             2000000.0   \n",
       "435                  0.426527       5.864616e+06             4960000.0   \n",
       "439                  0.443983       3.658255e+06             2400000.0   \n",
       "723                  0.390374       3.947301e+06             3190000.0   \n",
       "955                  0.382675       8.194727e+05              414000.0   \n",
       "1022                 0.495050       8.257408e+06             4499500.0   \n",
       "1023                 0.409091       5.899694e+06             3270000.0   \n",
       "1061                 0.637500       2.072147e+06             1650000.0   \n",
       "1419                 0.473684       2.043053e+06             1000000.0   \n",
       "1547                 0.428571       2.265400e+06             1109000.0   \n",
       "2241                 0.523810       1.243750e+06              915000.0   \n",
       "\n",
       "      weekly_max_volume  weekly_min_volume weekly_mean_ntrades  \\\n",
       "393          21500000.0            9000.00            4.292135   \n",
       "435          18250000.0           85945.95            7.820896   \n",
       "439          39720000.0          200000.00            4.725490   \n",
       "723          19170000.0           40000.00            5.446602   \n",
       "955          10017000.0           18000.00           16.581818   \n",
       "1022         52932000.0           80000.00           11.222222   \n",
       "1023         34148000.0           18534.00            8.461538   \n",
       "1061          6000000.0          300000.00            2.352941   \n",
       "1419         13600000.0            1000.00            3.000000   \n",
       "1547          7000000.0          218000.00            2.800000   \n",
       "2241          5340000.0          160000.00            2.625000   \n",
       "\n",
       "      weekly_median_ntrades  \n",
       "393                       1  \n",
       "435                       1  \n",
       "439                       1  \n",
       "723                       1  \n",
       "955                       1  \n",
       "1022                      1  \n",
       "1023                      1  \n",
       "1061                      1  \n",
       "1419                      1  \n",
       "1547                      1  \n",
       "2241                      1  \n",
       "\n",
       "[11 rows x 36 columns]"
      ]
     },
     "execution_count": 243,
     "metadata": {},
     "output_type": "execute_result"
    }
   ],
   "source": [
    "data.loc[data['Coupon']>50]"
   ]
  },
  {
   "cell_type": "markdown",
   "id": "55bd1a7d-2ef1-4687-a0f8-9a1277dee1a4",
   "metadata": {},
   "source": [
    "We have no further information to fix the error and sample size is large enough. Thus, we choose to drop those observations."
   ]
  },
  {
   "cell_type": "code",
   "execution_count": 244,
   "id": "9fb2c397-7baf-45ca-ab9d-93af07778a9b",
   "metadata": {},
   "outputs": [],
   "source": [
    "data = data[data['Coupon']<50]"
   ]
  },
  {
   "cell_type": "markdown",
   "id": "f6d3db86-a4cf-4052-a1cd-1587d55770da",
   "metadata": {},
   "source": [
    "### Maturity and Maturity at Issue Month\n",
    "There are some NaN values in maturity. First we check whether `Maturity At Issue months` matched with `Issue Date` and `Maturity`. If so, we could use two to compute and refill the NaN values."
   ]
  },
  {
   "cell_type": "code",
   "execution_count": 245,
   "id": "28e85cff-481a-4348-975b-be4782114da9",
   "metadata": {},
   "outputs": [
    {
     "name": "stdout",
     "output_type": "stream",
     "text": [
      "There are 0 NaN value in Maturity At Issue months.\n"
     ]
    }
   ],
   "source": [
    "print(\"There are\", data[\"Maturity At Issue months\"].isna().sum(), \"NaN value in Maturity At Issue months.\")"
   ]
  },
  {
   "cell_type": "code",
   "execution_count": 246,
   "id": "586bcda5-6c9d-4684-9ac5-cc50db75000b",
   "metadata": {},
   "outputs": [
    {
     "name": "stdout",
     "output_type": "stream",
     "text": [
      "There are 83 NaN values in Maturity\n"
     ]
    }
   ],
   "source": [
    "# Maturity is a string type\n",
    "print(\"There are\", (data[\"Maturity\"] == \"Nan Field Not Applicable\").sum(), \"NaN values in Maturity\")\n"
   ]
  },
  {
   "cell_type": "code",
   "execution_count": 247,
   "id": "fe55d441-d62a-4169-9388-3915f66a05a3",
   "metadata": {},
   "outputs": [
    {
     "data": {
      "text/html": [
       "<div>\n",
       "<style scoped>\n",
       "    .dataframe tbody tr th:only-of-type {\n",
       "        vertical-align: middle;\n",
       "    }\n",
       "\n",
       "    .dataframe tbody tr th {\n",
       "        vertical-align: top;\n",
       "    }\n",
       "\n",
       "    .dataframe thead th {\n",
       "        text-align: right;\n",
       "    }\n",
       "</style>\n",
       "<table border=\"1\" class=\"dataframe\">\n",
       "  <thead>\n",
       "    <tr style=\"text-align: right;\">\n",
       "      <th></th>\n",
       "      <th>Issue Date</th>\n",
       "      <th>Maturity</th>\n",
       "      <th>Maturity At Issue months</th>\n",
       "    </tr>\n",
       "  </thead>\n",
       "  <tbody>\n",
       "    <tr>\n",
       "      <th>0</th>\n",
       "      <td>7/1/2014</td>\n",
       "      <td>7/1/2019</td>\n",
       "      <td>60.87</td>\n",
       "    </tr>\n",
       "    <tr>\n",
       "      <th>1</th>\n",
       "      <td>3/15/2004</td>\n",
       "      <td>6/4/2018</td>\n",
       "      <td>173.13</td>\n",
       "    </tr>\n",
       "    <tr>\n",
       "      <th>2</th>\n",
       "      <td>5/14/2010</td>\n",
       "      <td>3/15/2015</td>\n",
       "      <td>58.87</td>\n",
       "    </tr>\n",
       "    <tr>\n",
       "      <th>3</th>\n",
       "      <td>6/17/2013</td>\n",
       "      <td>4/30/2020</td>\n",
       "      <td>83.63</td>\n",
       "    </tr>\n",
       "    <tr>\n",
       "      <th>4</th>\n",
       "      <td>12/22/2016</td>\n",
       "      <td>12/15/2024</td>\n",
       "      <td>97.17</td>\n",
       "    </tr>\n",
       "    <tr>\n",
       "      <th>...</th>\n",
       "      <td>...</td>\n",
       "      <td>...</td>\n",
       "      <td>...</td>\n",
       "    </tr>\n",
       "    <tr>\n",
       "      <th>2716</th>\n",
       "      <td>4/18/2017</td>\n",
       "      <td>1/15/2027</td>\n",
       "      <td>118.63</td>\n",
       "    </tr>\n",
       "    <tr>\n",
       "      <th>2717</th>\n",
       "      <td>3/14/2007</td>\n",
       "      <td>12/15/2025</td>\n",
       "      <td>228.37</td>\n",
       "    </tr>\n",
       "    <tr>\n",
       "      <th>2718</th>\n",
       "      <td>7/25/2006</td>\n",
       "      <td>8/15/2016</td>\n",
       "      <td>122.47</td>\n",
       "    </tr>\n",
       "    <tr>\n",
       "      <th>2719</th>\n",
       "      <td>8/5/2014</td>\n",
       "      <td>8/15/2024</td>\n",
       "      <td>122.10</td>\n",
       "    </tr>\n",
       "    <tr>\n",
       "      <th>2720</th>\n",
       "      <td>7/21/2015</td>\n",
       "      <td>8/15/2024</td>\n",
       "      <td>110.43</td>\n",
       "    </tr>\n",
       "  </tbody>\n",
       "</table>\n",
       "<p>2627 rows × 3 columns</p>\n",
       "</div>"
      ],
      "text/plain": [
       "      Issue Date    Maturity  Maturity At Issue months\n",
       "0       7/1/2014    7/1/2019                     60.87\n",
       "1      3/15/2004    6/4/2018                    173.13\n",
       "2      5/14/2010   3/15/2015                     58.87\n",
       "3      6/17/2013   4/30/2020                     83.63\n",
       "4     12/22/2016  12/15/2024                     97.17\n",
       "...          ...         ...                       ...\n",
       "2716   4/18/2017   1/15/2027                    118.63\n",
       "2717   3/14/2007  12/15/2025                    228.37\n",
       "2718   7/25/2006   8/15/2016                    122.47\n",
       "2719    8/5/2014   8/15/2024                    122.10\n",
       "2720   7/21/2015   8/15/2024                    110.43\n",
       "\n",
       "[2627 rows x 3 columns]"
      ]
     },
     "execution_count": 247,
     "metadata": {},
     "output_type": "execute_result"
    }
   ],
   "source": [
    "# Check match\n",
    "date_data = data.loc[data[\"Maturity\"] != \"Nan Field Not Applicable\", [\"Issue Date\", \"Maturity\", \"Maturity At Issue months\"]]\n",
    "date_data"
   ]
  },
  {
   "cell_type": "code",
   "execution_count": 248,
   "id": "3ce0f0eb-cb67-4037-b4a9-1a41f0148b13",
   "metadata": {},
   "outputs": [],
   "source": [
    "date_data[\"Issue Date\"] = pd.to_datetime(date_data.loc[:, \"Issue Date\", ])\n",
    "date_data[\"Maturity\"] = pd.to_datetime(date_data.loc[:, \"Maturity\", ])"
   ]
  },
  {
   "cell_type": "code",
   "execution_count": 249,
   "id": "f05ddc42-bc30-4b85-ab48-a9fe288ac754",
   "metadata": {},
   "outputs": [
    {
     "name": "stdout",
     "output_type": "stream",
     "text": [
      "Maximum error is 1.46%.\n"
     ]
    }
   ],
   "source": [
    "# (maturity date(days) - issue date(days)) / 30 (per month) - Maturity At Issue months, \n",
    "# then divided by Maturity At Issue months to compute the errors in percentage.\n",
    "errors = np.abs((date_data[\"Maturity\"] - date_data[\"Issue Date\"])/np.timedelta64(1, 'M') -\n",
    "                date_data[\"Maturity At Issue months\"])/date_data[\"Maturity At Issue months\"]\n",
    "\n",
    "print(\"Maximum error is \" + str(round(errors.max()*100,2))+\"%.\")"
   ]
  },
  {
   "cell_type": "markdown",
   "id": "40eceda6-2620-4bc9-9471-ca0193901fbb",
   "metadata": {},
   "source": [
    "Maximum error is 1. 46%, which is accurate, considering rounding of feature `Maturity At Issue months`. "
   ]
  },
  {
   "cell_type": "code",
   "execution_count": 250,
   "id": "c62a16e6-1a9f-476e-9073-bbe6c194e46d",
   "metadata": {},
   "outputs": [],
   "source": [
    "data[\"Issue Date\"] = pd.to_datetime(data.loc[:, \"Issue Date\"])\n",
    "# Observations where maturity is NaN\n",
    "condition1 = data[\"Maturity\"] == \"Nan Field Not Applicable\""
   ]
  },
  {
   "cell_type": "code",
   "execution_count": 265,
   "id": "81f5a421-36e0-4dac-9f6f-8eafdc720f5b",
   "metadata": {},
   "outputs": [
    {
     "data": {
      "text/html": [
       "<div>\n",
       "<style scoped>\n",
       "    .dataframe tbody tr th:only-of-type {\n",
       "        vertical-align: middle;\n",
       "    }\n",
       "\n",
       "    .dataframe tbody tr th {\n",
       "        vertical-align: top;\n",
       "    }\n",
       "\n",
       "    .dataframe thead th {\n",
       "        text-align: right;\n",
       "    }\n",
       "</style>\n",
       "<table border=\"1\" class=\"dataframe\">\n",
       "  <thead>\n",
       "    <tr style=\"text-align: right;\">\n",
       "      <th></th>\n",
       "      <th>Issue Date</th>\n",
       "      <th>Maturity</th>\n",
       "      <th>Maturity At Issue months</th>\n",
       "    </tr>\n",
       "  </thead>\n",
       "  <tbody>\n",
       "    <tr>\n",
       "      <th>84</th>\n",
       "      <td>2000-02-07</td>\n",
       "      <td>2030-12-08</td>\n",
       "      <td>370.03</td>\n",
       "    </tr>\n",
       "    <tr>\n",
       "      <th>304</th>\n",
       "      <td>2014-11-10</td>\n",
       "      <td>2019-12-11</td>\n",
       "      <td>61.03</td>\n",
       "    </tr>\n",
       "    <tr>\n",
       "      <th>305</th>\n",
       "      <td>2015-03-02</td>\n",
       "      <td>2020-04-10</td>\n",
       "      <td>61.33</td>\n",
       "    </tr>\n",
       "    <tr>\n",
       "      <th>495</th>\n",
       "      <td>2016-06-15</td>\n",
       "      <td>2026-08-07</td>\n",
       "      <td>121.73</td>\n",
       "    </tr>\n",
       "    <tr>\n",
       "      <th>529</th>\n",
       "      <td>2007-02-16</td>\n",
       "      <td>2017-12-05</td>\n",
       "      <td>129.63</td>\n",
       "    </tr>\n",
       "  </tbody>\n",
       "</table>\n",
       "</div>"
      ],
      "text/plain": [
       "    Issue Date    Maturity  Maturity At Issue months\n",
       "84  2000-02-07  2030-12-08                    370.03\n",
       "304 2014-11-10  2019-12-11                     61.03\n",
       "305 2015-03-02  2020-04-10                     61.33\n",
       "495 2016-06-15  2026-08-07                    121.73\n",
       "529 2007-02-16  2017-12-05                    129.63"
      ]
     },
     "execution_count": 265,
     "metadata": {},
     "output_type": "execute_result"
    }
   ],
   "source": [
    "# Selection the observations and assign computed values\n",
    "data.loc[condition1, \"Maturity\"] = \\\n",
    "(data.loc[condition1, \"Issue Date\"] + np.timedelta64(1, 'M') * data.loc[condition1, \"Maturity At Issue months\"]).dt.date\n",
    "# Check computation is correct\n",
    "data.loc[condition1, [\"Issue Date\", \"Maturity\", \"Maturity At Issue months\"]].head()"
   ]
  },
  {
   "cell_type": "markdown",
   "id": "72a89515-e87c-4a2c-b78d-f4f6a0b12ee6",
   "metadata": {},
   "source": [
    "### General View of Issued Amount"
   ]
  },
  {
   "cell_type": "code",
   "execution_count": 292,
   "id": "dd9bf360-8a84-4584-b6f1-9ff883c0de84",
   "metadata": {
    "tags": []
   },
   "outputs": [
    {
     "data": {
      "image/png": "[encoded data removed]",
      "text/plain": [
       "<Figure size 432x288 with 1 Axes>"
      ]
     },
     "metadata": {
      "needs_background": "light"
     },
     "output_type": "display_data"
    }
   ],
   "source": [
    "plt.hist(data[\"Issued Amount\"], bins=20)\n",
    "plt.title(\"Issued Amount\")\n",
    "plt.show()"
   ]
  },
  {
   "cell_type": "markdown",
   "id": "466f7713-7f81-4f9b-b03a-f20b0c9aa6a1",
   "metadata": {},
   "source": [
    "### General View of difference of median and mean\n",
    "From the plot, we could see that generally the distribtuion is not skew heavily since median and mean are close. However, there are rare cases when median is significantly smaller than mean. (Most of data are placed in right half of the axis)"
   ]
  },
  {
   "cell_type": "code",
   "execution_count": 291,
   "id": "3bf694a9-71a2-4ddf-a9c4-f28c89e06322",
   "metadata": {
    "tags": []
   },
   "outputs": [
    {
     "data": {
      "image/png": "[encoded data removed]",
      "text/plain": [
       "<Figure size 432x288 with 1 Axes>"
      ]
     },
     "metadata": {
      "needs_background": "light"
     },
     "output_type": "display_data"
    }
   ],
   "source": [
    "plt.hist(data['total_median_size'] - data['total_mean_size'], bins=20)\n",
    "plt.title(\"Total Median Size minus Totdl Mean Size\")\n",
    "plt.show()"
   ]
  },
  {
   "cell_type": "code",
   "execution_count": 286,
   "id": "8832cd9e-7f64-41a8-8cf5-f7f27d77570f",
   "metadata": {},
   "outputs": [
    {
     "data": {
      "text/html": [
       "<div>\n",
       "<style scoped>\n",
       "    .dataframe tbody tr th:only-of-type {\n",
       "        vertical-align: middle;\n",
       "    }\n",
       "\n",
       "    .dataframe tbody tr th {\n",
       "        vertical-align: top;\n",
       "    }\n",
       "\n",
       "    .dataframe thead th {\n",
       "        text-align: right;\n",
       "    }\n",
       "</style>\n",
       "<table border=\"1\" class=\"dataframe\">\n",
       "  <thead>\n",
       "    <tr style=\"text-align: right;\">\n",
       "      <th></th>\n",
       "      <th>CUSIP</th>\n",
       "      <th>Ticker</th>\n",
       "      <th>Issue Date</th>\n",
       "      <th>Maturity</th>\n",
       "      <th>1st Call Date</th>\n",
       "      <th>Moodys</th>\n",
       "      <th>S_and_P</th>\n",
       "      <th>Fitch</th>\n",
       "      <th>Bloomberg Composite Rating</th>\n",
       "      <th>Coupon</th>\n",
       "      <th>...</th>\n",
       "      <th>percent_intra_dealer</th>\n",
       "      <th>percent_uncapped</th>\n",
       "      <th>bond_type</th>\n",
       "      <th>Client_Trade_Percentage</th>\n",
       "      <th>weekly_mean_volume</th>\n",
       "      <th>weekly_median_volume</th>\n",
       "      <th>weekly_max_volume</th>\n",
       "      <th>weekly_min_volume</th>\n",
       "      <th>weekly_mean_ntrades</th>\n",
       "      <th>weekly_median_ntrades</th>\n",
       "    </tr>\n",
       "  </thead>\n",
       "  <tbody>\n",
       "    <tr>\n",
       "      <th>2142</th>\n",
       "      <td>500630BQ0</td>\n",
       "      <td>KDB</td>\n",
       "      <td>2009-01-23</td>\n",
       "      <td>1/23/2014</td>\n",
       "      <td>Nan</td>\n",
       "      <td>WR</td>\n",
       "      <td>NR</td>\n",
       "      <td>NR</td>\n",
       "      <td>NR</td>\n",
       "      <td>8.0</td>\n",
       "      <td>...</td>\n",
       "      <td>0.4</td>\n",
       "      <td>0.6</td>\n",
       "      <td>5</td>\n",
       "      <td>0.4</td>\n",
       "      <td>5375000.0</td>\n",
       "      <td>5375000.0</td>\n",
       "      <td>5750000.0</td>\n",
       "      <td>5000000.0</td>\n",
       "      <td>2.5</td>\n",
       "      <td>1</td>\n",
       "    </tr>\n",
       "  </tbody>\n",
       "</table>\n",
       "<p>1 rows × 36 columns</p>\n",
       "</div>"
      ],
      "text/plain": [
       "          CUSIP Ticker Issue Date   Maturity 1st Call Date Moodys S_and_P  \\\n",
       "2142  500630BQ0    KDB 2009-01-23  1/23/2014           Nan     WR      NR   \n",
       "\n",
       "     Fitch Bloomberg Composite Rating  Coupon  ...  percent_intra_dealer  \\\n",
       "2142    NR                         NR     8.0  ...                   0.4   \n",
       "\n",
       "     percent_uncapped bond_type  Client_Trade_Percentage weekly_mean_volume  \\\n",
       "2142              0.6         5                      0.4          5375000.0   \n",
       "\n",
       "      weekly_median_volume  weekly_max_volume  weekly_min_volume  \\\n",
       "2142             5375000.0          5750000.0          5000000.0   \n",
       "\n",
       "     weekly_mean_ntrades  weekly_median_ntrades  \n",
       "2142                 2.5                      1  \n",
       "\n",
       "[1 rows x 36 columns]"
      ]
     },
     "execution_count": 286,
     "metadata": {},
     "output_type": "execute_result"
    }
   ],
   "source": [
    "# Up to now, it seems harmless. Keep an eye on this observation. \n",
    "data[(data['total_median_size'] - data['total_mean_size']) < -1000000]"
   ]
  },
  {
   "cell_type": "markdown",
   "id": "1b5993db-024f-4c20-adc2-d7d8a195ddb3",
   "metadata": {
    "tags": []
   },
   "source": [
    "### Check all percentage data are in range of (0, 1)"
   ]
  },
  {
   "cell_type": "code",
   "execution_count": 301,
   "id": "b48c6ba4-84fa-43a6-b031-7daad58bc892",
   "metadata": {},
   "outputs": [
    {
     "data": {
      "text/plain": [
       "percent_intra_dealer       0\n",
       "percent_uncapped           0\n",
       "Client_Trade_Percentage    0\n",
       "dtype: int64"
      ]
     },
     "execution_count": 301,
     "metadata": {},
     "output_type": "execute_result"
    }
   ],
   "source": [
    "np.sum(\n",
    "    (data.loc[:, [\"percent_intra_dealer\", \"percent_uncapped\", \"Client_Trade_Percentage\"]] > 1) | \\\n",
    "    (data.loc[:, [\"percent_intra_dealer\", \"percent_uncapped\", \"Client_Trade_Percentage\"]] < 0)\n",
    ")"
   ]
  },
  {
   "cell_type": "markdown",
   "id": "30216270-066b-446f-a912-0cc3352e236b",
   "metadata": {},
   "source": [
    "## Visualization of Data"
   ]
  },
  {
   "cell_type": "code",
   "execution_count": null,
   "id": "b9bb3abe-e2e7-4e98-9220-7153b88e5159",
   "metadata": {},
   "outputs": [],
   "source": []
  }
 ],
 "metadata": {
  "kernelspec": {
   "display_name": "Python 3 (ipykernel)",
   "language": "python",
   "name": "python3"
  },
  "language_info": {
   "codemirror_mode": {
    "name": "ipython",
    "version": 3
   },
   "file_extension": ".py",
   "mimetype": "text/x-python",
   "name": "python",
   "nbconvert_exporter": "python",
   "pygments_lexer": "ipython3",
   "version": "3.9.7"
  }
 },
 "nbformat": 4,
 "nbformat_minor": 5
}
