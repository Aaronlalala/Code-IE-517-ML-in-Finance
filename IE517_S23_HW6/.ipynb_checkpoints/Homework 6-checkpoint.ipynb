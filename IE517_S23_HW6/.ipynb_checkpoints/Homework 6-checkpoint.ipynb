{
 "cells": [
  {
   "cell_type": "code",
   "execution_count": 56,
   "id": "a052ec13-242b-4496-9af7-b09949c60f20",
   "metadata": {},
   "outputs": [],
   "source": [
    "import pandas as pd\n",
    "import numpy as np\n",
    "import matplotlib.pyplot as plt"
   ]
  },
  {
   "cell_type": "code",
   "execution_count": 57,
   "id": "7fdcadfe-0508-4441-8e68-beb09a43ae9c",
   "metadata": {},
   "outputs": [
    {
     "name": "stdout",
     "output_type": "stream",
     "text": [
      "Homework 6.ipynb Report.md        ccdefault.csv\n"
     ]
    }
   ],
   "source": [
    "!ls"
   ]
  },
  {
   "cell_type": "code",
   "execution_count": 58,
   "id": "31443eec-db5e-4029-b0ae-cd09c0dccd60",
   "metadata": {},
   "outputs": [],
   "source": [
    "data = pd.read_csv(\"ccdefault.csv\")"
   ]
  },
  {
   "cell_type": "code",
   "execution_count": 59,
   "id": "e0786ffd-0e58-40fd-9db7-0e453fda1ed2",
   "metadata": {},
   "outputs": [
    {
     "data": {
      "text/html": [
       "<div>\n",
       "<style scoped>\n",
       "    .dataframe tbody tr th:only-of-type {\n",
       "        vertical-align: middle;\n",
       "    }\n",
       "\n",
       "    .dataframe tbody tr th {\n",
       "        vertical-align: top;\n",
       "    }\n",
       "\n",
       "    .dataframe thead th {\n",
       "        text-align: right;\n",
       "    }\n",
       "</style>\n",
       "<table border=\"1\" class=\"dataframe\">\n",
       "  <thead>\n",
       "    <tr style=\"text-align: right;\">\n",
       "      <th></th>\n",
       "      <th>ID</th>\n",
       "      <th>LIMIT_BAL</th>\n",
       "      <th>SEX</th>\n",
       "      <th>EDUCATION</th>\n",
       "      <th>MARRIAGE</th>\n",
       "      <th>AGE</th>\n",
       "      <th>PAY_0</th>\n",
       "      <th>PAY_2</th>\n",
       "      <th>PAY_3</th>\n",
       "      <th>PAY_4</th>\n",
       "      <th>...</th>\n",
       "      <th>BILL_AMT4</th>\n",
       "      <th>BILL_AMT5</th>\n",
       "      <th>BILL_AMT6</th>\n",
       "      <th>PAY_AMT1</th>\n",
       "      <th>PAY_AMT2</th>\n",
       "      <th>PAY_AMT3</th>\n",
       "      <th>PAY_AMT4</th>\n",
       "      <th>PAY_AMT5</th>\n",
       "      <th>PAY_AMT6</th>\n",
       "      <th>DEFAULT</th>\n",
       "    </tr>\n",
       "  </thead>\n",
       "  <tbody>\n",
       "    <tr>\n",
       "      <th>0</th>\n",
       "      <td>1</td>\n",
       "      <td>20000</td>\n",
       "      <td>2</td>\n",
       "      <td>2</td>\n",
       "      <td>1</td>\n",
       "      <td>24</td>\n",
       "      <td>2</td>\n",
       "      <td>2</td>\n",
       "      <td>-1</td>\n",
       "      <td>-1</td>\n",
       "      <td>...</td>\n",
       "      <td>0</td>\n",
       "      <td>0</td>\n",
       "      <td>0</td>\n",
       "      <td>0</td>\n",
       "      <td>689</td>\n",
       "      <td>0</td>\n",
       "      <td>0</td>\n",
       "      <td>0</td>\n",
       "      <td>0</td>\n",
       "      <td>1</td>\n",
       "    </tr>\n",
       "    <tr>\n",
       "      <th>1</th>\n",
       "      <td>2</td>\n",
       "      <td>120000</td>\n",
       "      <td>2</td>\n",
       "      <td>2</td>\n",
       "      <td>2</td>\n",
       "      <td>26</td>\n",
       "      <td>-1</td>\n",
       "      <td>2</td>\n",
       "      <td>0</td>\n",
       "      <td>0</td>\n",
       "      <td>...</td>\n",
       "      <td>3272</td>\n",
       "      <td>3455</td>\n",
       "      <td>3261</td>\n",
       "      <td>0</td>\n",
       "      <td>1000</td>\n",
       "      <td>1000</td>\n",
       "      <td>1000</td>\n",
       "      <td>0</td>\n",
       "      <td>2000</td>\n",
       "      <td>1</td>\n",
       "    </tr>\n",
       "    <tr>\n",
       "      <th>2</th>\n",
       "      <td>3</td>\n",
       "      <td>90000</td>\n",
       "      <td>2</td>\n",
       "      <td>2</td>\n",
       "      <td>2</td>\n",
       "      <td>34</td>\n",
       "      <td>0</td>\n",
       "      <td>0</td>\n",
       "      <td>0</td>\n",
       "      <td>0</td>\n",
       "      <td>...</td>\n",
       "      <td>14331</td>\n",
       "      <td>14948</td>\n",
       "      <td>15549</td>\n",
       "      <td>1518</td>\n",
       "      <td>1500</td>\n",
       "      <td>1000</td>\n",
       "      <td>1000</td>\n",
       "      <td>1000</td>\n",
       "      <td>5000</td>\n",
       "      <td>0</td>\n",
       "    </tr>\n",
       "    <tr>\n",
       "      <th>3</th>\n",
       "      <td>4</td>\n",
       "      <td>50000</td>\n",
       "      <td>2</td>\n",
       "      <td>2</td>\n",
       "      <td>1</td>\n",
       "      <td>37</td>\n",
       "      <td>0</td>\n",
       "      <td>0</td>\n",
       "      <td>0</td>\n",
       "      <td>0</td>\n",
       "      <td>...</td>\n",
       "      <td>28314</td>\n",
       "      <td>28959</td>\n",
       "      <td>29547</td>\n",
       "      <td>2000</td>\n",
       "      <td>2019</td>\n",
       "      <td>1200</td>\n",
       "      <td>1100</td>\n",
       "      <td>1069</td>\n",
       "      <td>1000</td>\n",
       "      <td>0</td>\n",
       "    </tr>\n",
       "    <tr>\n",
       "      <th>4</th>\n",
       "      <td>5</td>\n",
       "      <td>50000</td>\n",
       "      <td>1</td>\n",
       "      <td>2</td>\n",
       "      <td>1</td>\n",
       "      <td>57</td>\n",
       "      <td>-1</td>\n",
       "      <td>0</td>\n",
       "      <td>-1</td>\n",
       "      <td>0</td>\n",
       "      <td>...</td>\n",
       "      <td>20940</td>\n",
       "      <td>19146</td>\n",
       "      <td>19131</td>\n",
       "      <td>2000</td>\n",
       "      <td>36681</td>\n",
       "      <td>10000</td>\n",
       "      <td>9000</td>\n",
       "      <td>689</td>\n",
       "      <td>679</td>\n",
       "      <td>0</td>\n",
       "    </tr>\n",
       "  </tbody>\n",
       "</table>\n",
       "<p>5 rows × 25 columns</p>\n",
       "</div>"
      ],
      "text/plain": [
       "   ID  LIMIT_BAL  SEX  EDUCATION  MARRIAGE  AGE  PAY_0  PAY_2  PAY_3  PAY_4  \\\n",
       "0   1      20000    2          2         1   24      2      2     -1     -1   \n",
       "1   2     120000    2          2         2   26     -1      2      0      0   \n",
       "2   3      90000    2          2         2   34      0      0      0      0   \n",
       "3   4      50000    2          2         1   37      0      0      0      0   \n",
       "4   5      50000    1          2         1   57     -1      0     -1      0   \n",
       "\n",
       "   ...  BILL_AMT4  BILL_AMT5  BILL_AMT6  PAY_AMT1  PAY_AMT2  PAY_AMT3  \\\n",
       "0  ...          0          0          0         0       689         0   \n",
       "1  ...       3272       3455       3261         0      1000      1000   \n",
       "2  ...      14331      14948      15549      1518      1500      1000   \n",
       "3  ...      28314      28959      29547      2000      2019      1200   \n",
       "4  ...      20940      19146      19131      2000     36681     10000   \n",
       "\n",
       "   PAY_AMT4  PAY_AMT5  PAY_AMT6  DEFAULT  \n",
       "0         0         0         0        1  \n",
       "1      1000         0      2000        1  \n",
       "2      1000      1000      5000        0  \n",
       "3      1100      1069      1000        0  \n",
       "4      9000       689       679        0  \n",
       "\n",
       "[5 rows x 25 columns]"
      ]
     },
     "execution_count": 59,
     "metadata": {},
     "output_type": "execute_result"
    }
   ],
   "source": [
    "data.head()"
   ]
  },
  {
   "cell_type": "code",
   "execution_count": 60,
   "id": "a78d9240-df8c-4823-9f71-afed026267d4",
   "metadata": {},
   "outputs": [
    {
     "data": {
      "text/plain": [
       "0.2212"
      ]
     },
     "execution_count": 60,
     "metadata": {},
     "output_type": "execute_result"
    }
   ],
   "source": [
    "# Target is a little bit imbalanced\n",
    "data[\"DEFAULT\"].sum()/data.shape[0]"
   ]
  },
  {
   "cell_type": "markdown",
   "id": "230a0891-7963-44ef-b651-bed411fb3943",
   "metadata": {},
   "source": [
    "# Random Test Train Splits"
   ]
  },
  {
   "cell_type": "code",
   "execution_count": 61,
   "id": "47260551-c259-4094-856f-d1cf4c4a9b7a",
   "metadata": {},
   "outputs": [],
   "source": [
    "from sklearn.model_selection import train_test_split\n",
    "from sklearn.tree import DecisionTreeClassifier\n",
    "from sklearn.metrics import accuracy_score"
   ]
  },
  {
   "cell_type": "code",
   "execution_count": 62,
   "id": "3d6cb4bd-4c90-490d-930f-d7b4f65d0cd0",
   "metadata": {},
   "outputs": [],
   "source": [
    "in_sample_scores = []\n",
    "out_sample_scores = []"
   ]
  },
  {
   "cell_type": "code",
   "execution_count": 63,
   "id": "6ed63bae-04cd-40b9-9c93-56ebdd2a05fb",
   "metadata": {},
   "outputs": [],
   "source": [
    "for i in range(1, 11):\n",
    "    X_train, X_test, y_train, y_test = train_test_split(data.drop(columns=[\"DEFAULT\"]), data['DEFAULT'], random_state=i, stratify=data['DEFAULT'], test_size=0.1)\n",
    "    model = DecisionTreeClassifier()\n",
    "    model.fit(X_train, y_train)\n",
    "    y_train_pred = model.predict(X_train)\n",
    "    y_pred = model.predict(X_test)\n",
    "    out_sample_scores.append(accuracy_score(y_test, y_pred))\n",
    "    in_sample_scores.append(accuracy_score(y_train, y_train_pred))"
   ]
  },
  {
   "cell_type": "code",
   "execution_count": 64,
   "id": "83bcdce2-c4af-4812-89ce-e86ab7bc85a5",
   "metadata": {},
   "outputs": [
    {
     "data": {
      "text/plain": [
       "(1.0, 0.0)"
      ]
     },
     "execution_count": 64,
     "metadata": {},
     "output_type": "execute_result"
    }
   ],
   "source": [
    "# in_sample score\n",
    "np.mean(in_sample_scores), np.var(in_sample_scores)"
   ]
  },
  {
   "cell_type": "code",
   "execution_count": 65,
   "id": "25264be4-cbcf-4d07-9070-53f51d2b506b",
   "metadata": {},
   "outputs": [
    {
     "data": {
      "text/plain": [
       "(0.7218666666666667, 0.00011242666666666645)"
      ]
     },
     "execution_count": 65,
     "metadata": {},
     "output_type": "execute_result"
    }
   ],
   "source": [
    "# out_sample score\n",
    "np.mean(out_sample_scores), np.var(out_sample_scores)"
   ]
  },
  {
   "cell_type": "markdown",
   "id": "139f14f4-2f7d-4da3-a1d5-e5aaf3bdac12",
   "metadata": {},
   "source": [
    "# Cross Validation"
   ]
  },
  {
   "cell_type": "code",
   "execution_count": 66,
   "id": "b587d492-62aa-4e55-a619-d9de6bfe3409",
   "metadata": {},
   "outputs": [],
   "source": [
    "from sklearn.model_selection import cross_validate"
   ]
  },
  {
   "cell_type": "code",
   "execution_count": 67,
   "id": "0f5f592b-5534-44c4-90c7-fb05e7f72bdf",
   "metadata": {},
   "outputs": [],
   "source": [
    "X_train, X_test, y_train, y_test = train_test_split(data.drop(columns=[\"DEFAULT\"]), data['DEFAULT'], random_state=42, stratify=data['DEFAULT'], test_size=0.1)"
   ]
  },
  {
   "cell_type": "code",
   "execution_count": 68,
   "id": "c27e954c-d57b-46a3-84cb-1b368bef3a86",
   "metadata": {},
   "outputs": [],
   "source": [
    "# First use cross validation to fit and optimize model\n",
    "model = DecisionTreeClassifier()\n",
    "cv_result = cross_validate(model, X = X_train, y = y_train, cv=10)"
   ]
  },
  {
   "cell_type": "code",
   "execution_count": 69,
   "id": "0126047c-229d-4a1a-8647-38f5559b21b8",
   "metadata": {},
   "outputs": [
    {
     "data": {
      "text/plain": [
       "array([0.71037037, 0.71777778, 0.72111111, 0.71185185, 0.72481481,\n",
       "       0.71777778, 0.72222222, 0.73814815, 0.73296296, 0.72      ])"
      ]
     },
     "execution_count": 69,
     "metadata": {},
     "output_type": "execute_result"
    }
   ],
   "source": [
    "cv_result[\"test_score\"]"
   ]
  },
  {
   "cell_type": "code",
   "execution_count": 70,
   "id": "a913c0e7-3a11-498f-921e-4713a4ee10b8",
   "metadata": {},
   "outputs": [
    {
     "data": {
      "text/plain": [
       "(0.7217037037037037, 6.667215363511658e-05)"
      ]
     },
     "execution_count": 70,
     "metadata": {},
     "output_type": "execute_result"
    }
   ],
   "source": [
    "# in_sample score\n",
    "np.mean(cv_result[\"test_score\"]), np.var(cv_result[\"test_score\"])"
   ]
  },
  {
   "cell_type": "code",
   "execution_count": 71,
   "id": "a29c7c47-16f0-42d1-93b0-d3d220c1ed87",
   "metadata": {},
   "outputs": [
    {
     "data": {
      "text/plain": [
       "0.7223333333333334"
      ]
     },
     "execution_count": 71,
     "metadata": {},
     "output_type": "execute_result"
    }
   ],
   "source": [
    "# After cross-validation, we select the best model based on the average performance across all folds\n",
    "# then retrain that model using the entire training dataset to test out-sample data\n",
    "\n",
    "# since we don't make parameter tuning when conduct cross validation, this has no difference compare with a random split\n",
    "model.fit(X_train, y_train)\n",
    "y_pred = model.predict(X_test) \n",
    "accuracy_score(y_test, y_pred)"
   ]
  },
  {
   "cell_type": "markdown",
   "id": "c389f15f-1c6f-4184-96e6-b06a9be2054d",
   "metadata": {},
   "source": [
    "# Conclusions \n",
    "Two methods are similar I think, even though in random test train splits, the in-sample accuracies are 100%. When we are tuning the model, we actually don't care and inspect out-sample's result to iterate our model's parameters. The difference is that cross validation is kind of random test train splits without replacement.<br>\n",
    "I couldn't really tell which method provides the best estimate, because the accuracy on test data are actually similar.  If I have to make a choice, I think cross validation method generally performs better. <br>\n",
    "For the efficiency, I think if they both run the same number of iterations, like in our quations both are 10 iterations, then there is no much difference. However, since cross validation is a split without replacement, it's more likely to require fewer iterations to let each part of the data serves as validation set. Thus, in general, random test train splits require more iteration to fully make sure every part of data have appeared in validation and takes more time."
   ]
  },
  {
   "cell_type": "code",
   "execution_count": null,
   "id": "76505be2-6c28-44c1-bb74-d79ac9c9d825",
   "metadata": {},
   "outputs": [],
   "source": []
  }
 ],
 "metadata": {
  "kernelspec": {
   "display_name": "Python 3 (ipykernel)",
   "language": "python",
   "name": "python3"
  },
  "language_info": {
   "codemirror_mode": {
    "name": "ipython",
    "version": 3
   },
   "file_extension": ".py",
   "mimetype": "text/x-python",
   "name": "python",
   "nbconvert_exporter": "python",
   "pygments_lexer": "ipython3",
   "version": "3.9.7"
  }
 },
 "nbformat": 4,
 "nbformat_minor": 5
}
