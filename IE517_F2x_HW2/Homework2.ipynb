{
 "cells": [
  {
   "cell_type": "code",
   "execution_count": 24,
   "id": "c8d1e193-7c09-4e2e-99a8-c3392f7a3b02",
   "metadata": {},
   "outputs": [],
   "source": [
    "# Python data manipulation\n",
    "import pandas as pd\n",
    "import numpy as np\n",
    "import matplotlib.pyplot as plt\n",
    "\n",
    "# Tabular data machine learning\n",
    "from sklearn.model_selection import train_test_split\n",
    "from sklearn.metrics import accuracy_score\n",
    "from sklearn.metrics import auc"
   ]
  },
  {
   "cell_type": "code",
   "execution_count": 21,
   "id": "ceff24fb-c212-4570-a195-919b85e38248",
   "metadata": {},
   "outputs": [],
   "source": [
    "import warnings\n",
    "warnings.filterwarnings(\"ignore\")"
   ]
  },
  {
   "cell_type": "markdown",
   "id": "9003b6ca-7adb-47a7-971e-8c51931d3db9",
   "metadata": {},
   "source": [
    "# Preprocess Data"
   ]
  },
  {
   "cell_type": "code",
   "execution_count": 5,
   "id": "11a9413f-dd8e-4198-944a-46442fff7ba3",
   "metadata": {},
   "outputs": [],
   "source": [
    "data = pd.read_csv(\"Treasury Squeeze raw score data.csv\").drop(columns=[\"rowindex\"])"
   ]
  },
  {
   "cell_type": "code",
   "execution_count": 6,
   "id": "35ee89b2-82ee-46e0-9ccf-c96ba28e724f",
   "metadata": {},
   "outputs": [
    {
     "data": {
      "text/html": [
       "<div>\n",
       "<style scoped>\n",
       "    .dataframe tbody tr th:only-of-type {\n",
       "        vertical-align: middle;\n",
       "    }\n",
       "\n",
       "    .dataframe tbody tr th {\n",
       "        vertical-align: top;\n",
       "    }\n",
       "\n",
       "    .dataframe thead th {\n",
       "        text-align: right;\n",
       "    }\n",
       "</style>\n",
       "<table border=\"1\" class=\"dataframe\">\n",
       "  <thead>\n",
       "    <tr style=\"text-align: right;\">\n",
       "      <th></th>\n",
       "      <th>contract</th>\n",
       "      <th>price_crossing</th>\n",
       "      <th>price_distortion</th>\n",
       "      <th>roll_start</th>\n",
       "      <th>roll_heart</th>\n",
       "      <th>near_minus_next</th>\n",
       "      <th>ctd_last_first</th>\n",
       "      <th>ctd1_percent</th>\n",
       "      <th>delivery_cost</th>\n",
       "      <th>delivery_ratio</th>\n",
       "      <th>squeeze</th>\n",
       "    </tr>\n",
       "  </thead>\n",
       "  <tbody>\n",
       "    <tr>\n",
       "      <th>0</th>\n",
       "      <td>TUZ92 Comdty</td>\n",
       "      <td>0.157659</td>\n",
       "      <td>0.900783</td>\n",
       "      <td>0.016053</td>\n",
       "      <td>1.000000</td>\n",
       "      <td>1.000000</td>\n",
       "      <td>0.902811</td>\n",
       "      <td>1.000000</td>\n",
       "      <td>0.010743</td>\n",
       "      <td>0.099313</td>\n",
       "      <td>True</td>\n",
       "    </tr>\n",
       "    <tr>\n",
       "      <th>1</th>\n",
       "      <td>TUH93 Comdty</td>\n",
       "      <td>0.018588</td>\n",
       "      <td>1.000000</td>\n",
       "      <td>1.000000</td>\n",
       "      <td>0.084724</td>\n",
       "      <td>0.778847</td>\n",
       "      <td>1.000000</td>\n",
       "      <td>0.136069</td>\n",
       "      <td>0.154116</td>\n",
       "      <td>1.000000</td>\n",
       "      <td>False</td>\n",
       "    </tr>\n",
       "    <tr>\n",
       "      <th>2</th>\n",
       "      <td>TUM93 Comdty</td>\n",
       "      <td>0.035755</td>\n",
       "      <td>0.045987</td>\n",
       "      <td>0.673543</td>\n",
       "      <td>1.000000</td>\n",
       "      <td>0.027689</td>\n",
       "      <td>0.067889</td>\n",
       "      <td>0.007696</td>\n",
       "      <td>0.034743</td>\n",
       "      <td>0.171676</td>\n",
       "      <td>False</td>\n",
       "    </tr>\n",
       "    <tr>\n",
       "      <th>3</th>\n",
       "      <td>TUU93 Comdty</td>\n",
       "      <td>0.663832</td>\n",
       "      <td>1.000000</td>\n",
       "      <td>0.063057</td>\n",
       "      <td>0.188899</td>\n",
       "      <td>0.064454</td>\n",
       "      <td>0.005742</td>\n",
       "      <td>0.166102</td>\n",
       "      <td>0.956668</td>\n",
       "      <td>1.000000</td>\n",
       "      <td>True</td>\n",
       "    </tr>\n",
       "    <tr>\n",
       "      <th>4</th>\n",
       "      <td>TUZ93 Comdty</td>\n",
       "      <td>0.109678</td>\n",
       "      <td>0.113601</td>\n",
       "      <td>0.726244</td>\n",
       "      <td>1.000000</td>\n",
       "      <td>1.000000</td>\n",
       "      <td>1.000000</td>\n",
       "      <td>1.000000</td>\n",
       "      <td>0.105467</td>\n",
       "      <td>0.145025</td>\n",
       "      <td>False</td>\n",
       "    </tr>\n",
       "  </tbody>\n",
       "</table>\n",
       "</div>"
      ],
      "text/plain": [
       "       contract  price_crossing  price_distortion  roll_start  roll_heart  \\\n",
       "0  TUZ92 Comdty        0.157659          0.900783    0.016053    1.000000   \n",
       "1  TUH93 Comdty        0.018588          1.000000    1.000000    0.084724   \n",
       "2  TUM93 Comdty        0.035755          0.045987    0.673543    1.000000   \n",
       "3  TUU93 Comdty        0.663832          1.000000    0.063057    0.188899   \n",
       "4  TUZ93 Comdty        0.109678          0.113601    0.726244    1.000000   \n",
       "\n",
       "   near_minus_next  ctd_last_first  ctd1_percent  delivery_cost  \\\n",
       "0         1.000000        0.902811      1.000000       0.010743   \n",
       "1         0.778847        1.000000      0.136069       0.154116   \n",
       "2         0.027689        0.067889      0.007696       0.034743   \n",
       "3         0.064454        0.005742      0.166102       0.956668   \n",
       "4         1.000000        1.000000      1.000000       0.105467   \n",
       "\n",
       "   delivery_ratio  squeeze  \n",
       "0        0.099313     True  \n",
       "1        1.000000    False  \n",
       "2        0.171676    False  \n",
       "3        1.000000     True  \n",
       "4        0.145025    False  "
      ]
     },
     "execution_count": 6,
     "metadata": {},
     "output_type": "execute_result"
    }
   ],
   "source": [
    "data.head()"
   ]
  },
  {
   "cell_type": "code",
   "execution_count": 7,
   "id": "ba3f5e1d-e959-4e0c-b4f1-d6db2a7b28ed",
   "metadata": {},
   "outputs": [],
   "source": [
    "# Accucracy improved 2% after encoding contract\n",
    "def encodingContract(data):\n",
    "    data['contract_type'] = data['contract'].str[0:2]\n",
    "    dummies = pd.get_dummies(data[\"contract_type\"])\n",
    "    \n",
    "    data = pd.concat([data, dummies], axis = 1).drop(columns=[\"contract\", \"contract_type\"])\n",
    "    return data  "
   ]
  },
  {
   "cell_type": "code",
   "execution_count": 30,
   "id": "480da9e8-4c3c-4523-8b65-e435f5d07c4e",
   "metadata": {},
   "outputs": [],
   "source": [
    "X = encodingContract(data.drop(columns=[\"squeeze\"]))\n",
    "y = data['squeeze']"
   ]
  },
  {
   "cell_type": "code",
   "execution_count": 33,
   "id": "f9bcc774-8cdd-4d8c-9a1e-66c898ac609e",
   "metadata": {},
   "outputs": [],
   "source": [
    "X_train, X_test, y_train, y_test = train_test_split(X, y, test_size=0.25)"
   ]
  },
  {
   "cell_type": "markdown",
   "id": "d84fb946-e8bf-4185-8c1d-55c0dd10b573",
   "metadata": {},
   "source": [
    "# Fit KNN Model"
   ]
  },
  {
   "cell_type": "code",
   "execution_count": 34,
   "id": "0000594c-fafa-429c-bedf-6b9cf64c0a02",
   "metadata": {
    "tags": []
   },
   "outputs": [
    {
     "data": {
      "text/plain": [
       "[<matplotlib.lines.Line2D at 0x7f858ba03a90>]"
      ]
     },
     "execution_count": 34,
     "metadata": {},
     "output_type": "execute_result"
    },
    {
     "data": {
      "image/png": "[encoded data removed]",
      "text/plain": [
       "<Figure size 432x288 with 1 Axes>"
      ]
     },
     "metadata": {
      "needs_background": "light"
     },
     "output_type": "display_data"
    }
   ],
   "source": [
    "from sklearn.neighbors import KNeighborsClassifier\n",
    "\n",
    "# True and False cases are balanced, so it's reasonable to use accuracy as metrics\n",
    "scores = []\n",
    "for k in range(1, 26):\n",
    "    knn_model = KNeighborsClassifier(n_neighbors=k)\n",
    "    knn_model.fit(X_train, y_train)\n",
    "    y_pred = knn_model.predict(X_test)\n",
    "    scores.append(accuracy_score(y_test, y_pred))\n",
    "\n",
    "plt.plot(scores)"
   ]
  }
 ],
 "metadata": {
  "kernelspec": {
   "display_name": "Python 3 (ipykernel)",
   "language": "python",
   "name": "python3"
  },
  "language_info": {
   "codemirror_mode": {
    "name": "ipython",
    "version": 3
   },
   "file_extension": ".py",
   "mimetype": "text/x-python",
   "name": "python",
   "nbconvert_exporter": "python",
   "pygments_lexer": "ipython3",
   "version": "3.9.7"
  }
 },
 "nbformat": 4,
 "nbformat_minor": 5
}
