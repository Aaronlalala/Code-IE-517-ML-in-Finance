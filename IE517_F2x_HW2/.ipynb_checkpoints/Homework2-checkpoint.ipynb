{
 "cells": [
  {
   "cell_type": "code",
   "execution_count": 17,
   "id": "c8d1e193-7c09-4e2e-99a8-c3392f7a3b02",
   "metadata": {},
   "outputs": [],
   "source": [
    "# Python data manipulation\n",
    "import pandas as pd\n",
    "import numpy as np\n",
    "import matplotlib.pyplot as plt\n",
    "\n",
    "# Tabular data machine learning\n",
    "from sklearn.model_selection import train_test_split\n",
    "from sklearn.metrics import accuracy_score\n",
    "# from sklearn.metrics import auc\n",
    "from sklearn.model_selection import validation_curve"
   ]
  },
  {
   "cell_type": "code",
   "execution_count": 3,
   "id": "ceff24fb-c212-4570-a195-919b85e38248",
   "metadata": {},
   "outputs": [],
   "source": [
    "import warnings\n",
    "warnings.filterwarnings(\"ignore\")"
   ]
  },
  {
   "cell_type": "markdown",
   "id": "9003b6ca-7adb-47a7-971e-8c51931d3db9",
   "metadata": {},
   "source": [
    "# Preprocess Data"
   ]
  },
  {
   "cell_type": "code",
   "execution_count": 4,
   "id": "11a9413f-dd8e-4198-944a-46442fff7ba3",
   "metadata": {},
   "outputs": [],
   "source": [
    "data = pd.read_csv(\"Treasury Squeeze raw score data.csv\").drop(columns=[\"rowindex\"])"
   ]
  },
  {
   "cell_type": "code",
   "execution_count": 5,
   "id": "35ee89b2-82ee-46e0-9ccf-c96ba28e724f",
   "metadata": {},
   "outputs": [
    {
     "data": {
      "text/html": [
       "<div>\n",
       "<style scoped>\n",
       "    .dataframe tbody tr th:only-of-type {\n",
       "        vertical-align: middle;\n",
       "    }\n",
       "\n",
       "    .dataframe tbody tr th {\n",
       "        vertical-align: top;\n",
       "    }\n",
       "\n",
       "    .dataframe thead th {\n",
       "        text-align: right;\n",
       "    }\n",
       "</style>\n",
       "<table border=\"1\" class=\"dataframe\">\n",
       "  <thead>\n",
       "    <tr style=\"text-align: right;\">\n",
       "      <th></th>\n",
       "      <th>contract</th>\n",
       "      <th>price_crossing</th>\n",
       "      <th>price_distortion</th>\n",
       "      <th>roll_start</th>\n",
       "      <th>roll_heart</th>\n",
       "      <th>near_minus_next</th>\n",
       "      <th>ctd_last_first</th>\n",
       "      <th>ctd1_percent</th>\n",
       "      <th>delivery_cost</th>\n",
       "      <th>delivery_ratio</th>\n",
       "      <th>squeeze</th>\n",
       "    </tr>\n",
       "  </thead>\n",
       "  <tbody>\n",
       "    <tr>\n",
       "      <th>0</th>\n",
       "      <td>TUZ92 Comdty</td>\n",
       "      <td>0.157659</td>\n",
       "      <td>0.900783</td>\n",
       "      <td>0.016053</td>\n",
       "      <td>1.000000</td>\n",
       "      <td>1.000000</td>\n",
       "      <td>0.902811</td>\n",
       "      <td>1.000000</td>\n",
       "      <td>0.010743</td>\n",
       "      <td>0.099313</td>\n",
       "      <td>True</td>\n",
       "    </tr>\n",
       "    <tr>\n",
       "      <th>1</th>\n",
       "      <td>TUH93 Comdty</td>\n",
       "      <td>0.018588</td>\n",
       "      <td>1.000000</td>\n",
       "      <td>1.000000</td>\n",
       "      <td>0.084724</td>\n",
       "      <td>0.778847</td>\n",
       "      <td>1.000000</td>\n",
       "      <td>0.136069</td>\n",
       "      <td>0.154116</td>\n",
       "      <td>1.000000</td>\n",
       "      <td>False</td>\n",
       "    </tr>\n",
       "    <tr>\n",
       "      <th>2</th>\n",
       "      <td>TUM93 Comdty</td>\n",
       "      <td>0.035755</td>\n",
       "      <td>0.045987</td>\n",
       "      <td>0.673543</td>\n",
       "      <td>1.000000</td>\n",
       "      <td>0.027689</td>\n",
       "      <td>0.067889</td>\n",
       "      <td>0.007696</td>\n",
       "      <td>0.034743</td>\n",
       "      <td>0.171676</td>\n",
       "      <td>False</td>\n",
       "    </tr>\n",
       "    <tr>\n",
       "      <th>3</th>\n",
       "      <td>TUU93 Comdty</td>\n",
       "      <td>0.663832</td>\n",
       "      <td>1.000000</td>\n",
       "      <td>0.063057</td>\n",
       "      <td>0.188899</td>\n",
       "      <td>0.064454</td>\n",
       "      <td>0.005742</td>\n",
       "      <td>0.166102</td>\n",
       "      <td>0.956668</td>\n",
       "      <td>1.000000</td>\n",
       "      <td>True</td>\n",
       "    </tr>\n",
       "    <tr>\n",
       "      <th>4</th>\n",
       "      <td>TUZ93 Comdty</td>\n",
       "      <td>0.109678</td>\n",
       "      <td>0.113601</td>\n",
       "      <td>0.726244</td>\n",
       "      <td>1.000000</td>\n",
       "      <td>1.000000</td>\n",
       "      <td>1.000000</td>\n",
       "      <td>1.000000</td>\n",
       "      <td>0.105467</td>\n",
       "      <td>0.145025</td>\n",
       "      <td>False</td>\n",
       "    </tr>\n",
       "  </tbody>\n",
       "</table>\n",
       "</div>"
      ],
      "text/plain": [
       "       contract  price_crossing  price_distortion  roll_start  roll_heart  \\\n",
       "0  TUZ92 Comdty        0.157659          0.900783    0.016053    1.000000   \n",
       "1  TUH93 Comdty        0.018588          1.000000    1.000000    0.084724   \n",
       "2  TUM93 Comdty        0.035755          0.045987    0.673543    1.000000   \n",
       "3  TUU93 Comdty        0.663832          1.000000    0.063057    0.188899   \n",
       "4  TUZ93 Comdty        0.109678          0.113601    0.726244    1.000000   \n",
       "\n",
       "   near_minus_next  ctd_last_first  ctd1_percent  delivery_cost  \\\n",
       "0         1.000000        0.902811      1.000000       0.010743   \n",
       "1         0.778847        1.000000      0.136069       0.154116   \n",
       "2         0.027689        0.067889      0.007696       0.034743   \n",
       "3         0.064454        0.005742      0.166102       0.956668   \n",
       "4         1.000000        1.000000      1.000000       0.105467   \n",
       "\n",
       "   delivery_ratio  squeeze  \n",
       "0        0.099313     True  \n",
       "1        1.000000    False  \n",
       "2        0.171676    False  \n",
       "3        1.000000     True  \n",
       "4        0.145025    False  "
      ]
     },
     "execution_count": 5,
     "metadata": {},
     "output_type": "execute_result"
    }
   ],
   "source": [
    "data.head()"
   ]
  },
  {
   "cell_type": "code",
   "execution_count": 6,
   "id": "ba3f5e1d-e959-4e0c-b4f1-d6db2a7b28ed",
   "metadata": {},
   "outputs": [],
   "source": [
    "# Accucracy improved 2% after encoding contract\n",
    "def encodingContract(data):\n",
    "    data['contract_type'] = data['contract'].str[0:2]\n",
    "    dummies = pd.get_dummies(data[\"contract_type\"])\n",
    "    \n",
    "    data = pd.concat([data, dummies], axis = 1).drop(columns=[\"contract\", \"contract_type\"])\n",
    "    return data  "
   ]
  },
  {
   "cell_type": "code",
   "execution_count": 7,
   "id": "480da9e8-4c3c-4523-8b65-e435f5d07c4e",
   "metadata": {},
   "outputs": [],
   "source": [
    "X = encodingContract(data.drop(columns=[\"squeeze\"]))\n",
    "y = data['squeeze']"
   ]
  },
  {
   "cell_type": "code",
   "execution_count": 10,
   "id": "f9bcc774-8cdd-4d8c-9a1e-66c898ac609e",
   "metadata": {},
   "outputs": [],
   "source": [
    "X_train, X_test, y_train, y_test = train_test_split(X, y, test_size=0.25, random_state=0)"
   ]
  },
  {
   "cell_type": "markdown",
   "id": "d84fb946-e8bf-4185-8c1d-55c0dd10b573",
   "metadata": {
    "tags": []
   },
   "source": [
    "# Fit KNN Model"
   ]
  },
  {
   "cell_type": "code",
   "execution_count": 43,
   "id": "63dc6d09-4552-4874-af96-0503f833e4df",
   "metadata": {},
   "outputs": [],
   "source": [
    "from sklearn.neighbors import KNeighborsClassifier\n",
    "# True and False cases are balanced, so it's reasonable to use accuracy as metrics\n",
    "# k [1, 40]\n",
    "depth_range = list(range(1,41))\n",
    "train_scores, test_scores = validation_curve(KNeighborsClassifier(),\n",
    "                                             X_train, y_train, param_name=\"n_neighbors\", param_range=depth_range, cv=3)"
   ]
  },
  {
   "cell_type": "code",
   "execution_count": 44,
   "id": "06db837c-473c-4631-a021-8a10785c6cec",
   "metadata": {},
   "outputs": [
    {
     "data": {
      "image/png": "[encoded data removed]",
      "text/plain": [
       "<Figure size 432x288 with 1 Axes>"
      ]
     },
     "metadata": {
      "needs_background": "light"
     },
     "output_type": "display_data"
    }
   ],
   "source": [
    "plt.plot(depth_range, np.mean(train_scores, axis=1), label=\"Training score\")\n",
    "plt.plot(depth_range, np.mean(test_scores, axis=1), label=\"Cross-validation score\")\n",
    "plt.legend()\n",
    "plt.xlabel(\"Number of trees\")\n",
    "plt.ylabel(\"Accuracy\")\n",
    "plt.grid()\n",
    "plt.show()"
   ]
  },
  {
   "cell_type": "code",
   "execution_count": 45,
   "id": "dc7c527b-986d-4b18-b0c1-a837f675fecb",
   "metadata": {},
   "outputs": [
    {
     "data": {
      "text/plain": [
       "21"
      ]
     },
     "execution_count": 45,
     "metadata": {},
     "output_type": "execute_result"
    }
   ],
   "source": [
    "np.argmax(test_scores.mean(axis=1))"
   ]
  },
  {
   "cell_type": "code",
   "execution_count": 55,
   "id": "0b63b001-e85f-4e33-942a-cd4d33061034",
   "metadata": {},
   "outputs": [
    {
     "name": "stdout",
     "output_type": "stream",
     "text": [
      "K = 21 test accuracy: 63.85 %\n"
     ]
    }
   ],
   "source": [
    "print(\"K = 21 test accuracy:\", round(test_scores[21].mean() * 100, 2),\"%\")"
   ]
  },
  {
   "cell_type": "markdown",
   "id": "2af9ce2b-35a4-49f4-8738-8525cbdbf924",
   "metadata": {},
   "source": [
    "In reality, we could choose k = 12 or 13 for better time performance."
   ]
  },
  {
   "cell_type": "markdown",
   "id": "0583376c-6887-4cc6-9076-510b78fd7c2a",
   "metadata": {},
   "source": [
    "# Decision Tree "
   ]
  },
  {
   "cell_type": "code",
   "execution_count": 20,
   "id": "1ff60ded-2a2c-4773-bc6b-720db70e59b8",
   "metadata": {},
   "outputs": [],
   "source": [
    "from sklearn.tree import DecisionTreeClassifier\n"
   ]
  },
  {
   "cell_type": "code",
   "execution_count": 21,
   "id": "9649132f-0235-4222-8dd9-5241c340dca6",
   "metadata": {},
   "outputs": [],
   "source": [
    "depth_range = [1, 2, 3, 4, 5, 6, 7, 8, 9, 10]\n",
    "train_scores, test_scores = validation_curve(DecisionTreeClassifier(),\n",
    "                                           X_train, y_train, param_name=\"max_depth\", param_range=depth_range, cv=3)"
   ]
  },
  {
   "cell_type": "code",
   "execution_count": 24,
   "id": "f978ba21-3934-4acf-a9a7-b51dc69901ad",
   "metadata": {},
   "outputs": [
    {
     "data": {
      "image/png": "[encoded data removed]",
      "text/plain": [
       "<Figure size 432x288 with 1 Axes>"
      ]
     },
     "metadata": {
      "needs_background": "light"
     },
     "output_type": "display_data"
    }
   ],
   "source": [
    "plt.plot(depth_range, np.mean(train_scores, axis=1), label=\"Training score\")\n",
    "plt.plot(depth_range, np.mean(test_scores, axis=1), label=\"Cross-validation score\")\n",
    "plt.legend()\n",
    "plt.xlabel(\"Number of trees\")\n",
    "plt.ylabel(\"Accuracy\")\n",
    "plt.show()"
   ]
  },
  {
   "cell_type": "code",
   "execution_count": 26,
   "id": "6e5325fe-8bcb-4cef-bb9d-617b0d88f239",
   "metadata": {},
   "outputs": [
    {
     "data": {
      "text/plain": [
       "0.6177777777777778"
      ]
     },
     "execution_count": 26,
     "metadata": {},
     "output_type": "execute_result"
    }
   ],
   "source": [
    "model = DecisionTreeClassifier(max_depth=3)\n",
    "model.fit(X_train, y_train)\n",
    "y_pred = model.predict(X_test)\n",
    "accuracy_score(y_pred, y_test)"
   ]
  },
  {
   "cell_type": "code",
   "execution_count": 15,
   "id": "e06b0b96-e455-4ae4-b3fd-18118fd2e579",
   "metadata": {},
   "outputs": [
    {
     "name": "stdout",
     "output_type": "stream",
     "text": [
      "My name is {Zhicheng Tang}\n",
      "My NetID is: {zt17}\n",
      "I hereby certify that I have read the University policy on Academic Integrity and that I am not in violation.\n"
     ]
    }
   ],
   "source": [
    "print(\"My name is {Zhicheng Tang}\")\n",
    "print(\"My NetID is: {zt17}\")\n",
    "print(\"I hereby certify that I have read the University policy on Academic Integrity and that I am not in violation.\")"
   ]
  }
 ],
 "metadata": {
  "kernelspec": {
   "display_name": "Python 3 (ipykernel)",
   "language": "python",
   "name": "python3"
  },
  "language_info": {
   "codemirror_mode": {
    "name": "ipython",
    "version": 3
   },
   "file_extension": ".py",
   "mimetype": "text/x-python",
   "name": "python",
   "nbconvert_exporter": "python",
   "pygments_lexer": "ipython3",
   "version": "3.9.7"
  }
 },
 "nbformat": 4,
 "nbformat_minor": 5
}
