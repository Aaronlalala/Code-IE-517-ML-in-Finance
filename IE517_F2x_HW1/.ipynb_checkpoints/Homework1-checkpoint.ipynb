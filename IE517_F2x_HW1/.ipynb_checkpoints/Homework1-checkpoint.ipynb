{
 "cells": [
  {
   "cell_type": "code",
   "execution_count": 1,
   "id": "29db3cc7-407c-406b-b9df-900d3e3895a9",
   "metadata": {},
   "outputs": [],
   "source": [
    "import pandas as pd\n",
    "import numpy as np\n",
    "import matplotlib.pyplot as plt"
   ]
  },
  {
   "cell_type": "code",
   "execution_count": 2,
   "id": "49b7ec7f-b2a5-4bc3-aed1-334527727c73",
   "metadata": {},
   "outputs": [],
   "source": [
    "from sklearn.model_selection import train_test_split\n",
    "from sklearn import preprocessing\n",
    "from sklearn import metrics"
   ]
  },
  {
   "cell_type": "code",
   "execution_count": 3,
   "id": "45e1a7e9-b889-4d5e-8426-3d2e014bfcbc",
   "metadata": {},
   "outputs": [],
   "source": [
    "data = pd.read_csv(\"Treasury Squeeze raw score data.csv\").drop(columns=[\"rowindex\"])"
   ]
  },
  {
   "cell_type": "markdown",
   "id": "836e1713-dcab-4278-abf6-f922309fd13f",
   "metadata": {},
   "source": [
    "# Preprocessing Data "
   ]
  },
  {
   "cell_type": "markdown",
   "id": "85a9b643-cfa4-4b48-ab02-71ac9a421948",
   "metadata": {},
   "source": [
    "## Overview of Data"
   ]
  },
  {
   "cell_type": "code",
   "execution_count": 4,
   "id": "5e1d67ba-1b13-4a39-a228-b47ea8f70375",
   "metadata": {},
   "outputs": [
    {
     "data": {
      "text/html": [
       "<div>\n",
       "<style scoped>\n",
       "    .dataframe tbody tr th:only-of-type {\n",
       "        vertical-align: middle;\n",
       "    }\n",
       "\n",
       "    .dataframe tbody tr th {\n",
       "        vertical-align: top;\n",
       "    }\n",
       "\n",
       "    .dataframe thead th {\n",
       "        text-align: right;\n",
       "    }\n",
       "</style>\n",
       "<table border=\"1\" class=\"dataframe\">\n",
       "  <thead>\n",
       "    <tr style=\"text-align: right;\">\n",
       "      <th></th>\n",
       "      <th>contract</th>\n",
       "      <th>price_crossing</th>\n",
       "      <th>price_distortion</th>\n",
       "      <th>roll_start</th>\n",
       "      <th>roll_heart</th>\n",
       "      <th>near_minus_next</th>\n",
       "      <th>ctd_last_first</th>\n",
       "      <th>ctd1_percent</th>\n",
       "      <th>delivery_cost</th>\n",
       "      <th>delivery_ratio</th>\n",
       "      <th>squeeze</th>\n",
       "    </tr>\n",
       "  </thead>\n",
       "  <tbody>\n",
       "    <tr>\n",
       "      <th>0</th>\n",
       "      <td>TUZ92 Comdty</td>\n",
       "      <td>0.157659</td>\n",
       "      <td>0.900783</td>\n",
       "      <td>0.016053</td>\n",
       "      <td>1.000000</td>\n",
       "      <td>1.000000</td>\n",
       "      <td>0.902811</td>\n",
       "      <td>1.000000</td>\n",
       "      <td>0.010743</td>\n",
       "      <td>0.099313</td>\n",
       "      <td>True</td>\n",
       "    </tr>\n",
       "    <tr>\n",
       "      <th>1</th>\n",
       "      <td>TUH93 Comdty</td>\n",
       "      <td>0.018588</td>\n",
       "      <td>1.000000</td>\n",
       "      <td>1.000000</td>\n",
       "      <td>0.084724</td>\n",
       "      <td>0.778847</td>\n",
       "      <td>1.000000</td>\n",
       "      <td>0.136069</td>\n",
       "      <td>0.154116</td>\n",
       "      <td>1.000000</td>\n",
       "      <td>False</td>\n",
       "    </tr>\n",
       "    <tr>\n",
       "      <th>2</th>\n",
       "      <td>TUM93 Comdty</td>\n",
       "      <td>0.035755</td>\n",
       "      <td>0.045987</td>\n",
       "      <td>0.673543</td>\n",
       "      <td>1.000000</td>\n",
       "      <td>0.027689</td>\n",
       "      <td>0.067889</td>\n",
       "      <td>0.007696</td>\n",
       "      <td>0.034743</td>\n",
       "      <td>0.171676</td>\n",
       "      <td>False</td>\n",
       "    </tr>\n",
       "    <tr>\n",
       "      <th>3</th>\n",
       "      <td>TUU93 Comdty</td>\n",
       "      <td>0.663832</td>\n",
       "      <td>1.000000</td>\n",
       "      <td>0.063057</td>\n",
       "      <td>0.188899</td>\n",
       "      <td>0.064454</td>\n",
       "      <td>0.005742</td>\n",
       "      <td>0.166102</td>\n",
       "      <td>0.956668</td>\n",
       "      <td>1.000000</td>\n",
       "      <td>True</td>\n",
       "    </tr>\n",
       "    <tr>\n",
       "      <th>4</th>\n",
       "      <td>TUZ93 Comdty</td>\n",
       "      <td>0.109678</td>\n",
       "      <td>0.113601</td>\n",
       "      <td>0.726244</td>\n",
       "      <td>1.000000</td>\n",
       "      <td>1.000000</td>\n",
       "      <td>1.000000</td>\n",
       "      <td>1.000000</td>\n",
       "      <td>0.105467</td>\n",
       "      <td>0.145025</td>\n",
       "      <td>False</td>\n",
       "    </tr>\n",
       "  </tbody>\n",
       "</table>\n",
       "</div>"
      ],
      "text/plain": [
       "       contract  price_crossing  price_distortion  roll_start  roll_heart  \\\n",
       "0  TUZ92 Comdty        0.157659          0.900783    0.016053    1.000000   \n",
       "1  TUH93 Comdty        0.018588          1.000000    1.000000    0.084724   \n",
       "2  TUM93 Comdty        0.035755          0.045987    0.673543    1.000000   \n",
       "3  TUU93 Comdty        0.663832          1.000000    0.063057    0.188899   \n",
       "4  TUZ93 Comdty        0.109678          0.113601    0.726244    1.000000   \n",
       "\n",
       "   near_minus_next  ctd_last_first  ctd1_percent  delivery_cost  \\\n",
       "0         1.000000        0.902811      1.000000       0.010743   \n",
       "1         0.778847        1.000000      0.136069       0.154116   \n",
       "2         0.027689        0.067889      0.007696       0.034743   \n",
       "3         0.064454        0.005742      0.166102       0.956668   \n",
       "4         1.000000        1.000000      1.000000       0.105467   \n",
       "\n",
       "   delivery_ratio  squeeze  \n",
       "0        0.099313     True  \n",
       "1        1.000000    False  \n",
       "2        0.171676    False  \n",
       "3        1.000000     True  \n",
       "4        0.145025    False  "
      ]
     },
     "execution_count": 4,
     "metadata": {},
     "output_type": "execute_result"
    }
   ],
   "source": [
    "data.head()"
   ]
  },
  {
   "cell_type": "code",
   "execution_count": 5,
   "id": "5fa6f8bf-f1d4-4ca7-90ec-1ff62fc153e0",
   "metadata": {},
   "outputs": [
    {
     "data": {
      "text/html": [
       "<div>\n",
       "<style scoped>\n",
       "    .dataframe tbody tr th:only-of-type {\n",
       "        vertical-align: middle;\n",
       "    }\n",
       "\n",
       "    .dataframe tbody tr th {\n",
       "        vertical-align: top;\n",
       "    }\n",
       "\n",
       "    .dataframe thead th {\n",
       "        text-align: right;\n",
       "    }\n",
       "</style>\n",
       "<table border=\"1\" class=\"dataframe\">\n",
       "  <thead>\n",
       "    <tr style=\"text-align: right;\">\n",
       "      <th></th>\n",
       "      <th>price_crossing</th>\n",
       "      <th>price_distortion</th>\n",
       "      <th>roll_start</th>\n",
       "      <th>roll_heart</th>\n",
       "      <th>near_minus_next</th>\n",
       "      <th>ctd_last_first</th>\n",
       "      <th>ctd1_percent</th>\n",
       "      <th>delivery_cost</th>\n",
       "      <th>delivery_ratio</th>\n",
       "    </tr>\n",
       "  </thead>\n",
       "  <tbody>\n",
       "    <tr>\n",
       "      <th>count</th>\n",
       "      <td>900.000000</td>\n",
       "      <td>900.000000</td>\n",
       "      <td>900.000000</td>\n",
       "      <td>900.000000</td>\n",
       "      <td>900.000000</td>\n",
       "      <td>900.000000</td>\n",
       "      <td>900.000000</td>\n",
       "      <td>900.000000</td>\n",
       "      <td>900.000000</td>\n",
       "    </tr>\n",
       "    <tr>\n",
       "      <th>mean</th>\n",
       "      <td>0.517025</td>\n",
       "      <td>0.507342</td>\n",
       "      <td>0.506971</td>\n",
       "      <td>0.504794</td>\n",
       "      <td>0.492294</td>\n",
       "      <td>0.469390</td>\n",
       "      <td>0.510498</td>\n",
       "      <td>0.503261</td>\n",
       "      <td>0.495017</td>\n",
       "    </tr>\n",
       "    <tr>\n",
       "      <th>std</th>\n",
       "      <td>0.411294</td>\n",
       "      <td>0.418360</td>\n",
       "      <td>0.414868</td>\n",
       "      <td>0.411697</td>\n",
       "      <td>0.414438</td>\n",
       "      <td>0.414856</td>\n",
       "      <td>0.413276</td>\n",
       "      <td>0.414060</td>\n",
       "      <td>0.417401</td>\n",
       "    </tr>\n",
       "    <tr>\n",
       "      <th>min</th>\n",
       "      <td>0.000039</td>\n",
       "      <td>0.000190</td>\n",
       "      <td>0.000220</td>\n",
       "      <td>0.000310</td>\n",
       "      <td>0.000188</td>\n",
       "      <td>0.000109</td>\n",
       "      <td>0.000197</td>\n",
       "      <td>0.000198</td>\n",
       "      <td>0.000161</td>\n",
       "    </tr>\n",
       "    <tr>\n",
       "      <th>25%</th>\n",
       "      <td>0.107899</td>\n",
       "      <td>0.092227</td>\n",
       "      <td>0.104720</td>\n",
       "      <td>0.108011</td>\n",
       "      <td>0.097522</td>\n",
       "      <td>0.086036</td>\n",
       "      <td>0.105793</td>\n",
       "      <td>0.101311</td>\n",
       "      <td>0.094566</td>\n",
       "    </tr>\n",
       "    <tr>\n",
       "      <th>50%</th>\n",
       "      <td>0.589354</td>\n",
       "      <td>0.570491</td>\n",
       "      <td>0.560740</td>\n",
       "      <td>0.561798</td>\n",
       "      <td>0.196330</td>\n",
       "      <td>0.186985</td>\n",
       "      <td>0.574814</td>\n",
       "      <td>0.560256</td>\n",
       "      <td>0.193544</td>\n",
       "    </tr>\n",
       "    <tr>\n",
       "      <th>75%</th>\n",
       "      <td>1.000000</td>\n",
       "      <td>1.000000</td>\n",
       "      <td>1.000000</td>\n",
       "      <td>1.000000</td>\n",
       "      <td>1.000000</td>\n",
       "      <td>1.000000</td>\n",
       "      <td>1.000000</td>\n",
       "      <td>1.000000</td>\n",
       "      <td>1.000000</td>\n",
       "    </tr>\n",
       "    <tr>\n",
       "      <th>max</th>\n",
       "      <td>1.000000</td>\n",
       "      <td>1.000000</td>\n",
       "      <td>1.000000</td>\n",
       "      <td>1.000000</td>\n",
       "      <td>1.000000</td>\n",
       "      <td>1.000000</td>\n",
       "      <td>1.000000</td>\n",
       "      <td>1.000000</td>\n",
       "      <td>1.000000</td>\n",
       "    </tr>\n",
       "  </tbody>\n",
       "</table>\n",
       "</div>"
      ],
      "text/plain": [
       "       price_crossing  price_distortion  roll_start  roll_heart  \\\n",
       "count      900.000000        900.000000  900.000000  900.000000   \n",
       "mean         0.517025          0.507342    0.506971    0.504794   \n",
       "std          0.411294          0.418360    0.414868    0.411697   \n",
       "min          0.000039          0.000190    0.000220    0.000310   \n",
       "25%          0.107899          0.092227    0.104720    0.108011   \n",
       "50%          0.589354          0.570491    0.560740    0.561798   \n",
       "75%          1.000000          1.000000    1.000000    1.000000   \n",
       "max          1.000000          1.000000    1.000000    1.000000   \n",
       "\n",
       "       near_minus_next  ctd_last_first  ctd1_percent  delivery_cost  \\\n",
       "count       900.000000      900.000000    900.000000     900.000000   \n",
       "mean          0.492294        0.469390      0.510498       0.503261   \n",
       "std           0.414438        0.414856      0.413276       0.414060   \n",
       "min           0.000188        0.000109      0.000197       0.000198   \n",
       "25%           0.097522        0.086036      0.105793       0.101311   \n",
       "50%           0.196330        0.186985      0.574814       0.560256   \n",
       "75%           1.000000        1.000000      1.000000       1.000000   \n",
       "max           1.000000        1.000000      1.000000       1.000000   \n",
       "\n",
       "       delivery_ratio  \n",
       "count      900.000000  \n",
       "mean         0.495017  \n",
       "std          0.417401  \n",
       "min          0.000161  \n",
       "25%          0.094566  \n",
       "50%          0.193544  \n",
       "75%          1.000000  \n",
       "max          1.000000  "
      ]
     },
     "execution_count": 5,
     "metadata": {},
     "output_type": "execute_result"
    }
   ],
   "source": [
    "# All features are scaled\n",
    "data.describe()"
   ]
  },
  {
   "cell_type": "code",
   "execution_count": 6,
   "id": "7fcad309-36c5-45f4-9344-d2970606600f",
   "metadata": {},
   "outputs": [
    {
     "data": {
      "text/html": [
       "<div>\n",
       "<style scoped>\n",
       "    .dataframe tbody tr th:only-of-type {\n",
       "        vertical-align: middle;\n",
       "    }\n",
       "\n",
       "    .dataframe tbody tr th {\n",
       "        vertical-align: top;\n",
       "    }\n",
       "\n",
       "    .dataframe thead th {\n",
       "        text-align: right;\n",
       "    }\n",
       "</style>\n",
       "<table border=\"1\" class=\"dataframe\">\n",
       "  <thead>\n",
       "    <tr style=\"text-align: right;\">\n",
       "      <th></th>\n",
       "      <th>price_crossing</th>\n",
       "      <th>price_distortion</th>\n",
       "      <th>roll_start</th>\n",
       "      <th>roll_heart</th>\n",
       "      <th>near_minus_next</th>\n",
       "      <th>ctd_last_first</th>\n",
       "      <th>ctd1_percent</th>\n",
       "      <th>delivery_cost</th>\n",
       "      <th>delivery_ratio</th>\n",
       "      <th>squeeze</th>\n",
       "    </tr>\n",
       "  </thead>\n",
       "  <tbody>\n",
       "    <tr>\n",
       "      <th>price_crossing</th>\n",
       "      <td>0.169163</td>\n",
       "      <td>-0.003306</td>\n",
       "      <td>-0.003287</td>\n",
       "      <td>-0.007675</td>\n",
       "      <td>0.001365</td>\n",
       "      <td>-0.004409</td>\n",
       "      <td>0.001592</td>\n",
       "      <td>-0.001045</td>\n",
       "      <td>0.005755</td>\n",
       "      <td>0.015296</td>\n",
       "    </tr>\n",
       "    <tr>\n",
       "      <th>price_distortion</th>\n",
       "      <td>-0.003306</td>\n",
       "      <td>0.175025</td>\n",
       "      <td>0.002395</td>\n",
       "      <td>0.000106</td>\n",
       "      <td>0.002618</td>\n",
       "      <td>-0.003931</td>\n",
       "      <td>-0.007034</td>\n",
       "      <td>-0.014959</td>\n",
       "      <td>0.000431</td>\n",
       "      <td>0.028177</td>\n",
       "    </tr>\n",
       "    <tr>\n",
       "      <th>roll_start</th>\n",
       "      <td>-0.003287</td>\n",
       "      <td>0.002395</td>\n",
       "      <td>0.172115</td>\n",
       "      <td>0.012383</td>\n",
       "      <td>-0.000777</td>\n",
       "      <td>0.001371</td>\n",
       "      <td>0.001531</td>\n",
       "      <td>-0.005615</td>\n",
       "      <td>-0.001902</td>\n",
       "      <td>-0.005735</td>\n",
       "    </tr>\n",
       "    <tr>\n",
       "      <th>roll_heart</th>\n",
       "      <td>-0.007675</td>\n",
       "      <td>0.000106</td>\n",
       "      <td>0.012383</td>\n",
       "      <td>0.169494</td>\n",
       "      <td>-0.003391</td>\n",
       "      <td>-0.001207</td>\n",
       "      <td>0.000242</td>\n",
       "      <td>-0.000269</td>\n",
       "      <td>0.001656</td>\n",
       "      <td>-0.006589</td>\n",
       "    </tr>\n",
       "    <tr>\n",
       "      <th>near_minus_next</th>\n",
       "      <td>0.001365</td>\n",
       "      <td>0.002618</td>\n",
       "      <td>-0.000777</td>\n",
       "      <td>-0.003391</td>\n",
       "      <td>0.171759</td>\n",
       "      <td>-0.005290</td>\n",
       "      <td>0.000352</td>\n",
       "      <td>-0.000557</td>\n",
       "      <td>0.011068</td>\n",
       "      <td>0.022683</td>\n",
       "    </tr>\n",
       "    <tr>\n",
       "      <th>ctd_last_first</th>\n",
       "      <td>-0.004409</td>\n",
       "      <td>-0.003931</td>\n",
       "      <td>0.001371</td>\n",
       "      <td>-0.001207</td>\n",
       "      <td>-0.005290</td>\n",
       "      <td>0.172106</td>\n",
       "      <td>-0.001085</td>\n",
       "      <td>-0.000170</td>\n",
       "      <td>-0.003068</td>\n",
       "      <td>0.023421</td>\n",
       "    </tr>\n",
       "    <tr>\n",
       "      <th>ctd1_percent</th>\n",
       "      <td>0.001592</td>\n",
       "      <td>-0.007034</td>\n",
       "      <td>0.001531</td>\n",
       "      <td>0.000242</td>\n",
       "      <td>0.000352</td>\n",
       "      <td>-0.001085</td>\n",
       "      <td>0.170797</td>\n",
       "      <td>-0.004971</td>\n",
       "      <td>-0.005265</td>\n",
       "      <td>-0.005540</td>\n",
       "    </tr>\n",
       "    <tr>\n",
       "      <th>delivery_cost</th>\n",
       "      <td>-0.001045</td>\n",
       "      <td>-0.014959</td>\n",
       "      <td>-0.005615</td>\n",
       "      <td>-0.000269</td>\n",
       "      <td>-0.000557</td>\n",
       "      <td>-0.000170</td>\n",
       "      <td>-0.004971</td>\n",
       "      <td>0.171446</td>\n",
       "      <td>-0.010727</td>\n",
       "      <td>0.006312</td>\n",
       "    </tr>\n",
       "    <tr>\n",
       "      <th>delivery_ratio</th>\n",
       "      <td>0.005755</td>\n",
       "      <td>0.000431</td>\n",
       "      <td>-0.001902</td>\n",
       "      <td>0.001656</td>\n",
       "      <td>0.011068</td>\n",
       "      <td>-0.003068</td>\n",
       "      <td>-0.005265</td>\n",
       "      <td>-0.010727</td>\n",
       "      <td>0.174224</td>\n",
       "      <td>0.051852</td>\n",
       "    </tr>\n",
       "    <tr>\n",
       "      <th>squeeze</th>\n",
       "      <td>0.015296</td>\n",
       "      <td>0.028177</td>\n",
       "      <td>-0.005735</td>\n",
       "      <td>-0.006589</td>\n",
       "      <td>0.022683</td>\n",
       "      <td>0.023421</td>\n",
       "      <td>-0.005540</td>\n",
       "      <td>0.006312</td>\n",
       "      <td>0.051852</td>\n",
       "      <td>0.244894</td>\n",
       "    </tr>\n",
       "  </tbody>\n",
       "</table>\n",
       "</div>"
      ],
      "text/plain": [
       "                  price_crossing  price_distortion  roll_start  roll_heart  \\\n",
       "price_crossing          0.169163         -0.003306   -0.003287   -0.007675   \n",
       "price_distortion       -0.003306          0.175025    0.002395    0.000106   \n",
       "roll_start             -0.003287          0.002395    0.172115    0.012383   \n",
       "roll_heart             -0.007675          0.000106    0.012383    0.169494   \n",
       "near_minus_next         0.001365          0.002618   -0.000777   -0.003391   \n",
       "ctd_last_first         -0.004409         -0.003931    0.001371   -0.001207   \n",
       "ctd1_percent            0.001592         -0.007034    0.001531    0.000242   \n",
       "delivery_cost          -0.001045         -0.014959   -0.005615   -0.000269   \n",
       "delivery_ratio          0.005755          0.000431   -0.001902    0.001656   \n",
       "squeeze                 0.015296          0.028177   -0.005735   -0.006589   \n",
       "\n",
       "                  near_minus_next  ctd_last_first  ctd1_percent  \\\n",
       "price_crossing           0.001365       -0.004409      0.001592   \n",
       "price_distortion         0.002618       -0.003931     -0.007034   \n",
       "roll_start              -0.000777        0.001371      0.001531   \n",
       "roll_heart              -0.003391       -0.001207      0.000242   \n",
       "near_minus_next          0.171759       -0.005290      0.000352   \n",
       "ctd_last_first          -0.005290        0.172106     -0.001085   \n",
       "ctd1_percent             0.000352       -0.001085      0.170797   \n",
       "delivery_cost           -0.000557       -0.000170     -0.004971   \n",
       "delivery_ratio           0.011068       -0.003068     -0.005265   \n",
       "squeeze                  0.022683        0.023421     -0.005540   \n",
       "\n",
       "                  delivery_cost  delivery_ratio   squeeze  \n",
       "price_crossing        -0.001045        0.005755  0.015296  \n",
       "price_distortion      -0.014959        0.000431  0.028177  \n",
       "roll_start            -0.005615       -0.001902 -0.005735  \n",
       "roll_heart            -0.000269        0.001656 -0.006589  \n",
       "near_minus_next       -0.000557        0.011068  0.022683  \n",
       "ctd_last_first        -0.000170       -0.003068  0.023421  \n",
       "ctd1_percent          -0.004971       -0.005265 -0.005540  \n",
       "delivery_cost          0.171446       -0.010727  0.006312  \n",
       "delivery_ratio        -0.010727        0.174224  0.051852  \n",
       "squeeze                0.006312        0.051852  0.244894  "
      ]
     },
     "execution_count": 6,
     "metadata": {},
     "output_type": "execute_result"
    }
   ],
   "source": [
    "# seems all features are not highly linearly corelated.\n",
    "# and response is not highly correlated to any of feature.\n",
    "data.cov()"
   ]
  },
  {
   "cell_type": "code",
   "execution_count": 7,
   "id": "1e487947-9074-4d07-882d-ec0c96ef8b42",
   "metadata": {},
   "outputs": [],
   "source": [
    "X = data.drop(columns=[\"squeeze\"])\n",
    "y = data[\"squeeze\"]"
   ]
  },
  {
   "cell_type": "code",
   "execution_count": 8,
   "id": "a77db152-6412-48e6-a4e3-1502fab07606",
   "metadata": {},
   "outputs": [
    {
     "data": {
      "text/plain": [
       "0.4266666666666667"
      ]
     },
     "execution_count": 8,
     "metadata": {},
     "output_type": "execute_result"
    }
   ],
   "source": [
    "# Two classes are balanced\n",
    "np.sum(y == True) / len(y)"
   ]
  },
  {
   "cell_type": "markdown",
   "id": "85b564b4-b27e-4d82-9474-b7d9b933d440",
   "metadata": {
    "tags": []
   },
   "source": [
    "## Plots of features"
   ]
  },
  {
   "cell_type": "code",
   "execution_count": 9,
   "id": "c981f771-6636-4a9f-82e3-d33a58e36001",
   "metadata": {},
   "outputs": [],
   "source": [
    "colors = {True: \"red\", False: \"blue\"}"
   ]
  },
  {
   "cell_type": "code",
   "execution_count": 10,
   "id": "47af33b8-8b3d-416e-b426-1e5f90bb7c6e",
   "metadata": {},
   "outputs": [
    {
     "data": {
      "image/png": "[encoded data removed]",
      "text/plain": [
       "<Figure size 432x288 with 1 Axes>"
      ]
     },
     "metadata": {
      "needs_background": "light"
     },
     "output_type": "display_data"
    }
   ],
   "source": [
    "plt.scatter(X[\"price_crossing\"], X[\"price_distortion\"], c = y.map(colors))\n",
    "plt.title(\"Price_crossing v.s. Price_distortion\")\n",
    "plt.show()"
   ]
  },
  {
   "cell_type": "code",
   "execution_count": 11,
   "id": "1d87a039-926d-49e0-8cb5-ac84e331646a",
   "metadata": {},
   "outputs": [
    {
     "data": {
      "image/png": "[encoded data removed]",
      "text/plain": [
       "<Figure size 432x288 with 1 Axes>"
      ]
     },
     "metadata": {
      "needs_background": "light"
     },
     "output_type": "display_data"
    }
   ],
   "source": [
    "plt.scatter(X[\"price_crossing\"], X[\"roll_start\"], c = y.map(colors))\n",
    "plt.title(\"Price_crossing v.s. Roll_start\")\n",
    "plt.show()"
   ]
  },
  {
   "cell_type": "code",
   "execution_count": 12,
   "id": "a660dadf-cf6a-4c1b-ba62-8ada983dc06b",
   "metadata": {},
   "outputs": [],
   "source": [
    "# From graph we can tell that it's impossible to separate response use only single feature"
   ]
  },
  {
   "cell_type": "markdown",
   "id": "28dbcfd1-f83a-445e-8196-a8231c3afb68",
   "metadata": {},
   "source": [
    "## Check linear separable"
   ]
  },
  {
   "cell_type": "code",
   "execution_count": 13,
   "id": "71a18bda-1dea-41a5-9bd1-c65e2f786e20",
   "metadata": {},
   "outputs": [],
   "source": [
    "# Use PCA to reduce the dimensionality so that we could have a guess whether linear model could separat the response\n",
    "from sklearn.decomposition import PCA\n",
    "pca_model = PCA(n_components=2)\n",
    "pca_model.fit(X.drop(columns='contract'))\n",
    "pc = pca_model.transform(X.drop(columns='contract'))"
   ]
  },
  {
   "cell_type": "code",
   "execution_count": 14,
   "id": "f3848c30-3d9f-4ebd-baba-db00087eaa30",
   "metadata": {},
   "outputs": [
    {
     "data": {
      "text/plain": [
       "<matplotlib.collections.PathCollection at 0x7fd090fc9fa0>"
      ]
     },
     "execution_count": 14,
     "metadata": {},
     "output_type": "execute_result"
    },
    {
     "data": {
      "image/png": "[encoded data removed]",
      "text/plain": [
       "<Figure size 432x288 with 1 Axes>"
      ]
     },
     "metadata": {
      "needs_background": "light"
     },
     "output_type": "display_data"
    }
   ],
   "source": [
    "# From the plot we could tell that they are almost not linear separable\n",
    "plt.scatter(pc[:, 0], pc[:, 1], c = y.map(colors))"
   ]
  },
  {
   "cell_type": "markdown",
   "id": "a0e9d323-6d06-44b3-9bc0-6bf2edbb9db3",
   "metadata": {},
   "source": [
    "## Non-Linear Features"
   ]
  },
  {
   "cell_type": "code",
   "execution_count": 15,
   "id": "0361120b-64a0-4e81-8dc0-64c1be6c4886",
   "metadata": {},
   "outputs": [],
   "source": [
    "# Some nonlinear patterns might not be captured\n",
    "# number of capped feature (ones)\n",
    "# number of features fall in different zones (there is a cutoff region)\n",
    "# For each features, there is a clear cutoff in range of 0.2 to 0.5. \n",
    "# Features and response are not in linear relationship, probabiliy should use tree model.\n",
    "# def addNonLinearFeature(X):   \n",
    "#     X[\"ones\"] = np.sum(X.drop(columns=[\"contract\"]) == 1, axis = 1)\n",
    "#     X[\"lower_count\"] = np.sum(X.drop(columns=[\"contract\", \"ones\"]) < 0.25, axis = 1)\n",
    "#     return X"
   ]
  },
  {
   "cell_type": "markdown",
   "id": "f2dec987-4871-40a0-bbd5-edfbd793c37b",
   "metadata": {},
   "source": [
    "## Encoding categorical data"
   ]
  },
  {
   "cell_type": "code",
   "execution_count": 16,
   "id": "1a27cfa8-1ded-4b0a-b6d7-415b46dd8d09",
   "metadata": {},
   "outputs": [],
   "source": [
    "# Accucracy improved 2% after encoding contract\n",
    "def encodingContract(data):\n",
    "    data['contract_type'] = data['contract'].str[0:2]\n",
    "    dummies = pd.get_dummies(data[\"contract_type\"])\n",
    "    \n",
    "    data = pd.concat([data, dummies], axis = 1).drop(columns=[\"contract\", \"contract_type\"])\n",
    "    return data  "
   ]
  },
  {
   "cell_type": "markdown",
   "id": "8f2a1ce1-20d0-41ea-8d1b-a26e851a7c02",
   "metadata": {
    "tags": []
   },
   "source": [
    "# Model Fitting "
   ]
  },
  {
   "cell_type": "code",
   "execution_count": 17,
   "id": "b6af5ab3-a0a8-4ed7-9610-3fb3885805c7",
   "metadata": {},
   "outputs": [],
   "source": [
    "# def fit_model(X, y, model):\n",
    "#     X_train, X_test, y_train, y_test = train_test_split(X, y, test_size=0.25, random_state=0)\n",
    "    \n",
    "#     X_train = addNonLinearFeature(X_train)\n",
    "#     X_train = encodingContract(X_train)\n",
    "    \n",
    "#     X_test = addNonLinearFeature(X_test)\n",
    "#     X_test = encodingContract(X_test)\n",
    "    \n",
    "    \n",
    "#     model.fit(X_train, y_train)\n",
    "#     y_train_pred = model.predict(X_train)\n",
    "    \n",
    "#     # model.fit(X_test, y_test)\n",
    "#     y_pred = model.predict(X_test)\n",
    "    \n",
    "#     metrics.plot_roc_curve(model, X_test, y_test)\n",
    "#     plt.title(\"AUC Curve\")\n",
    "#     plt.show()\n",
    "    \n",
    "#     print(\"Training accuracy: \", metrics.accuracy_score(y_train, y_train_pred))\n",
    "#     print(\"Testing accuracy: \", metrics.accuracy_score(y_test, y_pred))"
   ]
  },
  {
   "cell_type": "code",
   "execution_count": 18,
   "id": "cbef043f-e41a-45b4-81fb-d729edd3f47a",
   "metadata": {},
   "outputs": [],
   "source": [
    "X_train, X_test, y_train, y_test = train_test_split(X, y, test_size=0.25, random_state=0)\n",
    "\n",
    "X_train = encodingContract(X_train)\n",
    "X_test = encodingContract(X_test)"
   ]
  },
  {
   "cell_type": "code",
   "execution_count": 19,
   "id": "1f5f26c6-4544-4939-82a5-90a92cce6917",
   "metadata": {},
   "outputs": [],
   "source": [
    "# No need to standardize, features are in right scale\n",
    "# Standardize the features\n",
    "# scaler = preprocessing.StandardScaler().fit(X_train)\n",
    "# X_train = scaler.transform(X_train)\n",
    "# X_test = scaler.transform(X_test)"
   ]
  },
  {
   "cell_type": "code",
   "execution_count": 20,
   "id": "7014b541-b735-41f7-b239-4204c29f0c86",
   "metadata": {},
   "outputs": [],
   "source": [
    "# plt.scatter(X_train[:, 0], X_train[:, 1], c = y_train.map(colors))\n",
    "# plt.title(\"Price_crossing v.s. Price_distortion\")\n",
    "# plt.show()"
   ]
  },
  {
   "cell_type": "markdown",
   "id": "a3ee1c00-2dba-4f6c-9330-b65b4ee7537d",
   "metadata": {
    "tags": []
   },
   "source": [
    "## SGD Classifier "
   ]
  },
  {
   "cell_type": "code",
   "execution_count": 21,
   "id": "f79663e1-94f2-48ec-8dcc-b8826e3dc2dc",
   "metadata": {},
   "outputs": [
    {
     "name": "stdout",
     "output_type": "stream",
     "text": [
      "[[ 0.85989845  0.52164611 -0.44152991  0.2881025   1.93232365  0.70575961\n",
      "   0.39269925  0.53769039  2.51990306 -0.26702983  1.33514914  1.06811931\n",
      "   0.53405965]]\n"
     ]
    }
   ],
   "source": [
    "from sklearn.linear_model import SGDClassifier\n",
    "model = SGDClassifier(random_state=0)\n",
    "model.fit(X_train, y_train)\n",
    "print(model.coef_)"
   ]
  },
  {
   "cell_type": "code",
   "execution_count": 22,
   "id": "91252ac4-d759-463e-ac56-9551e3e88f33",
   "metadata": {},
   "outputs": [
    {
     "name": "stdout",
     "output_type": "stream",
     "text": [
      "[-4.00175234]\n"
     ]
    }
   ],
   "source": [
    "print(model.intercept_)"
   ]
  },
  {
   "cell_type": "code",
   "execution_count": 23,
   "id": "b4d06406-a127-409a-b8d1-6e67a596ade7",
   "metadata": {},
   "outputs": [
    {
     "name": "stdout",
     "output_type": "stream",
     "text": [
      "Training accuracy:  0.6029629629629629\n",
      "Testing accuracy:  0.5911111111111111\n"
     ]
    }
   ],
   "source": [
    "y_train_pred = model.predict(X_train)\n",
    "print(\"Training accuracy: \", metrics.accuracy_score(y_train, y_train_pred))\n",
    "y_pred = model.predict(X_test)\n",
    "print(\"Testing accuracy: \", metrics.accuracy_score(y_test, y_pred))"
   ]
  },
  {
   "cell_type": "markdown",
   "id": "0d696f81-8ad2-440e-8c33-8618fdbb29ab",
   "metadata": {},
   "source": [
    "## Random Forest"
   ]
  },
  {
   "cell_type": "code",
   "execution_count": 24,
   "id": "a84611d9-df59-4801-8bd5-1ef61bbda5dd",
   "metadata": {},
   "outputs": [
    {
     "data": {
      "text/plain": [
       "RandomForestClassifier(random_state=0)"
      ]
     },
     "execution_count": 24,
     "metadata": {},
     "output_type": "execute_result"
    }
   ],
   "source": [
    "from sklearn.ensemble import RandomForestClassifier\n",
    "model2 = RandomForestClassifier(random_state=0)\n",
    "model2.fit(X_train, y_train)"
   ]
  },
  {
   "cell_type": "code",
   "execution_count": 25,
   "id": "d9249091-c131-48e4-a4ed-c76f3896face",
   "metadata": {},
   "outputs": [
    {
     "name": "stdout",
     "output_type": "stream",
     "text": [
      "Training accuracy:  1.0\n",
      "Testing accuracy:  0.6577777777777778\n"
     ]
    }
   ],
   "source": [
    "y_train_pred = model2.predict(X_train)\n",
    "print(\"Training accuracy: \", metrics.accuracy_score(y_train, y_train_pred))\n",
    "y_pred = model2.predict(X_test)\n",
    "print(\"Testing accuracy: \", metrics.accuracy_score(y_test, y_pred))"
   ]
  },
  {
   "cell_type": "code",
   "execution_count": 26,
   "id": "0c482297-9329-43b7-a6eb-d24d3520755d",
   "metadata": {},
   "outputs": [],
   "source": [
    "# Training accuracy is significantly higher than testing"
   ]
  },
  {
   "cell_type": "markdown",
   "id": "4f1f9d19-1ca1-4ee6-9827-c3df4c321a7c",
   "metadata": {},
   "source": [
    "# Examine Overfitting"
   ]
  },
  {
   "cell_type": "code",
   "execution_count": 27,
   "id": "403e9441-0f65-4936-9557-92a2bb2388f6",
   "metadata": {},
   "outputs": [],
   "source": [
    "# X_train, X_test, y_train, y_test = train_test_split(X, y, test_size=0.25, random_state=0)\n",
    "# X_train = addNonLinearFeature(X_train)\n",
    "# X_train = encodingContract(X_train)"
   ]
  },
  {
   "cell_type": "markdown",
   "id": "aaee211b-2c57-49f3-ab7d-c366e6aa93fe",
   "metadata": {},
   "source": [
    "## Search on n_estimators"
   ]
  },
  {
   "cell_type": "code",
   "execution_count": 28,
   "id": "c571916a-77e0-415f-b0fa-3d2159a9e23b",
   "metadata": {},
   "outputs": [],
   "source": [
    "from sklearn.model_selection import validation_curve\n",
    "param_range = [10, 50, 75, 100, 125, 150, 200]\n",
    "train_scores, test_scores = validation_curve(RandomForestClassifier(random_state=0)\n",
    "                                             , X_train, y_train, param_name=\"n_estimators\", param_range=param_range, cv=3)"
   ]
  },
  {
   "cell_type": "code",
   "execution_count": 29,
   "id": "c5fd9fee-4867-4fb9-b813-d7e63a759b21",
   "metadata": {},
   "outputs": [
    {
     "data": {
      "image/png": "[encoded data removed]",
      "text/plain": [
       "<Figure size 432x288 with 1 Axes>"
      ]
     },
     "metadata": {
      "needs_background": "light"
     },
     "output_type": "display_data"
    }
   ],
   "source": [
    "plt.plot(param_range, np.mean(train_scores, axis=1), label=\"Training score\")\n",
    "plt.plot(param_range, np.mean(test_scores, axis=1), label=\"Cross-validation score\")\n",
    "plt.legend()\n",
    "plt.xscale('log')\n",
    "plt.xlabel(\"Number of trees\")\n",
    "plt.ylabel(\"Accuracy\")\n",
    "plt.show()"
   ]
  },
  {
   "cell_type": "code",
   "execution_count": 30,
   "id": "748a7069-9201-471e-82b9-31632ae6b5b4",
   "metadata": {},
   "outputs": [
    {
     "name": "stdout",
     "output_type": "stream",
     "text": [
      "Training accuracy:  1.0\n",
      "Testing accuracy:  0.6533333333333333\n"
     ]
    }
   ],
   "source": [
    "model3 = RandomForestClassifier(random_state=0, n_estimators=125)\n",
    "model3.fit(X_train, y_train)\n",
    "\n",
    "y_train_pred = model3.predict(X_train)\n",
    "print(\"Training accuracy: \", metrics.accuracy_score(y_train, y_train_pred))\n",
    "y_pred = model3.predict(X_test)\n",
    "print(\"Testing accuracy: \", metrics.accuracy_score(y_test, y_pred))"
   ]
  },
  {
   "cell_type": "markdown",
   "id": "0a23ad0a-d22b-416d-9cac-62c9096bf40d",
   "metadata": {},
   "source": [
    "## Search on max_depth"
   ]
  },
  {
   "cell_type": "code",
   "execution_count": 31,
   "id": "16ba1278-4fc1-4dcc-ae42-ede2e5890b6e",
   "metadata": {},
   "outputs": [],
   "source": [
    "depth_range = [1, 2, 3, 4, 5, 6, 7, 8, 9, 10]\n",
    "train_scores, test_scores = validation_curve(RandomForestClassifier(random_state=0, n_estimators=125)\n",
    "                                             , X_train, y_train, param_name=\"max_depth\", param_range=depth_range, cv=3)"
   ]
  },
  {
   "cell_type": "code",
   "execution_count": 32,
   "id": "d157f65d-ecd8-4eed-af98-a281420180d0",
   "metadata": {},
   "outputs": [
    {
     "data": {
      "image/png": "[encoded data removed]",
      "text/plain": [
       "<Figure size 432x288 with 1 Axes>"
      ]
     },
     "metadata": {
      "needs_background": "light"
     },
     "output_type": "display_data"
    }
   ],
   "source": [
    "plt.plot(depth_range, np.mean(train_scores, axis=1), label=\"Training score\")\n",
    "plt.plot(depth_range, np.mean(test_scores, axis=1), label=\"Cross-validation score\")\n",
    "plt.legend()\n",
    "plt.xscale('log')\n",
    "plt.xlabel(\"Max Depth\")\n",
    "plt.ylabel(\"Accuracy\")\n",
    "plt.show()"
   ]
  },
  {
   "cell_type": "code",
   "execution_count": 33,
   "id": "8d81d1ab-ccab-4e92-9151-103037941ec8",
   "metadata": {},
   "outputs": [
    {
     "name": "stdout",
     "output_type": "stream",
     "text": [
      "Training accuracy:  0.7496296296296296\n",
      "Testing accuracy:  0.64\n"
     ]
    }
   ],
   "source": [
    "model4 = RandomForestClassifier(random_state=0, n_estimators=100, max_depth=4)\n",
    "model4.fit(X_train, y_train)\n",
    "\n",
    "y_train_pred = model4.predict(X_train)\n",
    "print(\"Training accuracy: \", metrics.accuracy_score(y_train, y_train_pred))\n",
    "y_pred = model4.predict(X_test)\n",
    "print(\"Testing accuracy: \", metrics.accuracy_score(y_test, y_pred))"
   ]
  },
  {
   "cell_type": "code",
   "execution_count": 34,
   "id": "eac86267-5855-4251-a6c2-d7a9d5257019",
   "metadata": {},
   "outputs": [],
   "source": [
    "# max depth should at most be 4 to prevent overfitting"
   ]
  },
  {
   "cell_type": "markdown",
   "id": "6afc786c-ce59-4f0a-8d39-1044da72ad29",
   "metadata": {
    "tags": []
   },
   "source": [
    "# Model Comparisons"
   ]
  },
  {
   "cell_type": "markdown",
   "id": "53ac81f2-322b-4c41-80b9-2a105f30e8d0",
   "metadata": {},
   "source": [
    "## Compare SGD Classifier with Random Forest"
   ]
  },
  {
   "cell_type": "code",
   "execution_count": 35,
   "id": "b3d2d9c0-8610-4620-af10-11e09d8c18bd",
   "metadata": {},
   "outputs": [
    {
     "data": {
      "text/plain": [
       "SGDClassifier(random_state=0)"
      ]
     },
     "execution_count": 35,
     "metadata": {},
     "output_type": "execute_result"
    }
   ],
   "source": [
    "model"
   ]
  },
  {
   "cell_type": "code",
   "execution_count": 36,
   "id": "6fb22e85-f825-4c80-b7a4-48814fa879fe",
   "metadata": {},
   "outputs": [
    {
     "data": {
      "text/plain": [
       "RandomForestClassifier(max_depth=4, random_state=0)"
      ]
     },
     "execution_count": 36,
     "metadata": {},
     "output_type": "execute_result"
    }
   ],
   "source": [
    "model4"
   ]
  },
  {
   "cell_type": "code",
   "execution_count": 37,
   "id": "d9226e1c-5bc0-47be-9c74-7090446b6e6b",
   "metadata": {
    "scrolled": true,
    "tags": []
   },
   "outputs": [
    {
     "name": "stdout",
     "output_type": "stream",
     "text": [
      "0\n",
      "1\n",
      "2\n",
      "3\n",
      "4\n",
      "5\n",
      "6\n",
      "7\n",
      "8\n",
      "9\n",
      "10\n",
      "11\n",
      "12\n",
      "13\n",
      "14\n",
      "15\n",
      "16\n",
      "17\n",
      "18\n",
      "19\n",
      "20\n",
      "21\n",
      "22\n",
      "23\n",
      "24\n",
      "25\n",
      "26\n",
      "27\n",
      "28\n",
      "29\n",
      "30\n",
      "31\n",
      "32\n",
      "33\n",
      "34\n",
      "35\n",
      "36\n",
      "37\n",
      "38\n",
      "39\n",
      "40\n",
      "41\n",
      "42\n",
      "43\n",
      "44\n",
      "45\n",
      "46\n",
      "47\n",
      "48\n",
      "49\n",
      "50\n",
      "51\n",
      "52\n",
      "53\n",
      "54\n",
      "55\n",
      "56\n",
      "57\n",
      "58\n",
      "59\n",
      "60\n",
      "61\n",
      "62\n",
      "63\n",
      "64\n",
      "65\n",
      "66\n",
      "67\n",
      "68\n",
      "69\n",
      "70\n",
      "71\n",
      "72\n",
      "73\n",
      "74\n",
      "75\n",
      "76\n",
      "77\n",
      "78\n",
      "79\n",
      "80\n",
      "81\n",
      "82\n",
      "83\n",
      "84\n",
      "85\n",
      "86\n",
      "87\n",
      "88\n",
      "89\n",
      "90\n",
      "91\n",
      "92\n",
      "93\n",
      "94\n",
      "95\n",
      "96\n",
      "97\n",
      "98\n",
      "99\n"
     ]
    }
   ],
   "source": [
    "sgd_scores = []\n",
    "rdf_scores = []\n",
    "for i in range(100):\n",
    "    print(i)\n",
    "    X_train, X_test, y_train, y_test = train_test_split(X, y, test_size=0.25)\n",
    "    X_train = encodingContract(X_train)\n",
    "    X_test = encodingContract(X_test)\n",
    "    \n",
    "    model.fit(X_train, y_train)\n",
    "    sgd_pred = model.predict(X_test)\n",
    "    \n",
    "    model4.fit(X_train, y_train)\n",
    "    rdf_pred = model4.predict(X_test)\n",
    "    \n",
    "    sgd_scores.append(metrics.accuracy_score(y_test, sgd_pred))\n",
    "    rdf_scores.append(metrics.accuracy_score(y_test, rdf_pred))\n",
    "    "
   ]
  },
  {
   "cell_type": "code",
   "execution_count": 38,
   "id": "da33faf7-3172-4b29-8337-91a311aa86e4",
   "metadata": {},
   "outputs": [
    {
     "data": {
      "image/png": "[encoded data removed]",
      "text/plain": [
       "<Figure size 432x288 with 1 Axes>"
      ]
     },
     "metadata": {
      "needs_background": "light"
     },
     "output_type": "display_data"
    }
   ],
   "source": [
    "plt.plot(range(100), sgd_scores)\n",
    "plt.plot(range(100), rdf_scores)\n",
    "plt.title(\"Random Comparison of Linear Model and Random Forest Model\")\n",
    "plt.xlabel(\"Number of Iterations\")\n",
    "plt.ylabel(\"Accuracy\")\n",
    "plt.legend([\"SGD\", \"RDF\"])\n",
    "plt.show()"
   ]
  },
  {
   "cell_type": "code",
   "execution_count": 39,
   "id": "43d0f7df-e8ed-46b3-a063-5fbb6c8d0a1b",
   "metadata": {},
   "outputs": [
    {
     "name": "stdout",
     "output_type": "stream",
     "text": [
      "Variance of SGD results: 0.0022734143209876545\n",
      "Variance of RDF results: 0.0006567407407407412\n",
      "Genearlly, the variance and bias performance of random forest model is better than SGD model.\n"
     ]
    }
   ],
   "source": [
    "print(\"Variance of SGD results:\", np.var(sgd_scores))\n",
    "print(\"Variance of RDF results:\", np.var(rdf_scores))\n",
    "print(\"Genearlly, the variance and bias performance of random forest model is better than SGD model.\")"
   ]
  },
  {
   "cell_type": "markdown",
   "id": "8d9069de-aeb6-45be-91b3-79ea037305d2",
   "metadata": {},
   "source": [
    "## Compare Random Forest before and after Justify Overfitting"
   ]
  },
  {
   "cell_type": "code",
   "execution_count": 45,
   "id": "0d58e567-253b-42e4-9135-cabe4354b7ca",
   "metadata": {
    "scrolled": true,
    "tags": []
   },
   "outputs": [
    {
     "name": "stdout",
     "output_type": "stream",
     "text": [
      "0\n",
      "1\n",
      "2\n",
      "3\n",
      "4\n",
      "5\n",
      "6\n",
      "7\n",
      "8\n",
      "9\n",
      "10\n",
      "11\n",
      "12\n",
      "13\n",
      "14\n",
      "15\n",
      "16\n",
      "17\n",
      "18\n",
      "19\n",
      "20\n",
      "21\n",
      "22\n",
      "23\n",
      "24\n",
      "25\n",
      "26\n",
      "27\n",
      "28\n",
      "29\n",
      "30\n",
      "31\n",
      "32\n",
      "33\n",
      "34\n",
      "35\n",
      "36\n",
      "37\n",
      "38\n",
      "39\n",
      "40\n",
      "41\n",
      "42\n",
      "43\n",
      "44\n",
      "45\n",
      "46\n",
      "47\n",
      "48\n",
      "49\n",
      "50\n",
      "51\n",
      "52\n",
      "53\n",
      "54\n",
      "55\n",
      "56\n",
      "57\n",
      "58\n",
      "59\n",
      "60\n",
      "61\n",
      "62\n",
      "63\n",
      "64\n",
      "65\n",
      "66\n",
      "67\n",
      "68\n",
      "69\n",
      "70\n",
      "71\n",
      "72\n",
      "73\n",
      "74\n",
      "75\n",
      "76\n",
      "77\n",
      "78\n",
      "79\n",
      "80\n",
      "81\n",
      "82\n",
      "83\n",
      "84\n",
      "85\n",
      "86\n",
      "87\n",
      "88\n",
      "89\n",
      "90\n",
      "91\n",
      "92\n",
      "93\n",
      "94\n",
      "95\n",
      "96\n",
      "97\n",
      "98\n",
      "99\n",
      "100\n",
      "101\n",
      "102\n",
      "103\n",
      "104\n",
      "105\n",
      "106\n",
      "107\n",
      "108\n",
      "109\n",
      "110\n",
      "111\n",
      "112\n",
      "113\n",
      "114\n",
      "115\n",
      "116\n",
      "117\n",
      "118\n",
      "119\n",
      "120\n",
      "121\n",
      "122\n",
      "123\n",
      "124\n",
      "125\n",
      "126\n",
      "127\n",
      "128\n",
      "129\n",
      "130\n",
      "131\n",
      "132\n",
      "133\n",
      "134\n",
      "135\n",
      "136\n",
      "137\n",
      "138\n",
      "139\n",
      "140\n",
      "141\n",
      "142\n",
      "143\n",
      "144\n",
      "145\n",
      "146\n",
      "147\n",
      "148\n",
      "149\n",
      "150\n",
      "151\n",
      "152\n",
      "153\n",
      "154\n",
      "155\n",
      "156\n",
      "157\n",
      "158\n",
      "159\n",
      "160\n",
      "161\n",
      "162\n",
      "163\n",
      "164\n",
      "165\n",
      "166\n",
      "167\n",
      "168\n",
      "169\n",
      "170\n",
      "171\n",
      "172\n",
      "173\n",
      "174\n",
      "175\n",
      "176\n",
      "177\n",
      "178\n",
      "179\n",
      "180\n",
      "181\n",
      "182\n",
      "183\n",
      "184\n",
      "185\n",
      "186\n",
      "187\n",
      "188\n",
      "189\n",
      "190\n",
      "191\n",
      "192\n",
      "193\n",
      "194\n",
      "195\n",
      "196\n",
      "197\n",
      "198\n",
      "199\n",
      "200\n",
      "201\n",
      "202\n",
      "203\n",
      "204\n",
      "205\n",
      "206\n",
      "207\n",
      "208\n",
      "209\n",
      "210\n",
      "211\n",
      "212\n",
      "213\n",
      "214\n",
      "215\n",
      "216\n",
      "217\n",
      "218\n",
      "219\n",
      "220\n",
      "221\n",
      "222\n",
      "223\n",
      "224\n",
      "225\n",
      "226\n",
      "227\n",
      "228\n",
      "229\n",
      "230\n",
      "231\n",
      "232\n",
      "233\n",
      "234\n",
      "235\n",
      "236\n",
      "237\n",
      "238\n",
      "239\n",
      "240\n",
      "241\n",
      "242\n",
      "243\n",
      "244\n",
      "245\n",
      "246\n",
      "247\n",
      "248\n",
      "249\n",
      "250\n",
      "251\n",
      "252\n",
      "253\n",
      "254\n",
      "255\n",
      "256\n",
      "257\n",
      "258\n",
      "259\n",
      "260\n",
      "261\n",
      "262\n",
      "263\n",
      "264\n",
      "265\n",
      "266\n",
      "267\n",
      "268\n",
      "269\n",
      "270\n",
      "271\n",
      "272\n",
      "273\n",
      "274\n",
      "275\n",
      "276\n",
      "277\n",
      "278\n",
      "279\n",
      "280\n",
      "281\n",
      "282\n",
      "283\n",
      "284\n",
      "285\n",
      "286\n",
      "287\n",
      "288\n",
      "289\n",
      "290\n",
      "291\n",
      "292\n",
      "293\n",
      "294\n",
      "295\n",
      "296\n",
      "297\n",
      "298\n",
      "299\n"
     ]
    }
   ],
   "source": [
    "rdf_default_scores = []\n",
    "rdf_scores = []\n",
    "default_model = RandomForestClassifier()\n",
    "for i in range(300):\n",
    "    print(i)\n",
    "    X_train, X_test, y_train, y_test = train_test_split(X, y, test_size=0.25)\n",
    "    X_train = encodingContract(X_train)\n",
    "    X_test = encodingContract(X_test)\n",
    "    \n",
    "    default_model.fit(X_train, y_train)\n",
    "    rdf_default_pred = default_model.predict(X_test)\n",
    "    \n",
    "    model4.fit(X_train, y_train)\n",
    "    rdf_pred = model4.predict(X_test)\n",
    "    \n",
    "    rdf_default_scores.append(metrics.accuracy_score(y_test, rdf_default_pred))\n",
    "    rdf_scores.append(metrics.accuracy_score(y_test, rdf_pred))"
   ]
  },
  {
   "cell_type": "code",
   "execution_count": 46,
   "id": "a61a0e0e-b305-43e4-bc9a-323edeb6d029",
   "metadata": {},
   "outputs": [
    {
     "data": {
      "image/png": "[encoded data removed]",
      "text/plain": [
       "<Figure size 432x288 with 1 Axes>"
      ]
     },
     "metadata": {
      "needs_background": "light"
     },
     "output_type": "display_data"
    }
   ],
   "source": [
    "plt.plot(range(300), rdf_default_scores)\n",
    "plt.plot(range(300), rdf_scores)\n",
    "plt.title(\"Random Comparison of Random Forest Model\")\n",
    "plt.xlabel(\"Number of Iterations\")\n",
    "plt.ylabel(\"Accuracy\")\n",
    "plt.legend([\"Default\", \"Modified\"])\n",
    "plt.show()"
   ]
  },
  {
   "cell_type": "code",
   "execution_count": 47,
   "id": "d1f06697-4e68-45da-a9df-7ea39d1f8732",
   "metadata": {},
   "outputs": [
    {
     "name": "stdout",
     "output_type": "stream",
     "text": [
      "Average accuracy before justification: 0.6364888888888889\n",
      "Average accuracy after justification: 0.6451407407407408\n"
     ]
    }
   ],
   "source": [
    "print(\"Average accuracy before justification:\", np.mean(rdf_default_scores))\n",
    "print(\"Average accuracy after justification:\", np.mean(rdf_scores))"
   ]
  },
  {
   "cell_type": "code",
   "execution_count": 52,
   "id": "7dd05856-77a1-4ca0-ad9e-b05816142dec",
   "metadata": {},
   "outputs": [
    {
     "name": "stdout",
     "output_type": "stream",
     "text": [
      "Variance of default RDF results: 0.0007320342386831281\n",
      "Variance of RDF results: 0.0007678443895747602\n",
      "Genearlly, the variance becomes slightly larger but accuracy significanly increase 0.87 %.\n"
     ]
    }
   ],
   "source": [
    "print(\"Variance of default RDF results:\", np.var(rdf_default_scores))\n",
    "print(\"Variance of RDF results:\", np.var(rdf_scores))\n",
    "print(\"Genearlly, the variance becomes slightly larger but accuracy significanly increase\", round((np.mean(rdf_scores)-np.mean(rdf_default_scores))*100, 2) , \"%.\")"
   ]
  },
  {
   "cell_type": "code",
   "execution_count": 53,
   "id": "fc4b832b-2910-40f4-8096-acbd51bec520",
   "metadata": {},
   "outputs": [
    {
     "name": "stdout",
     "output_type": "stream",
     "text": [
      "My name is Zhicheng Tang\n",
      "My NetID is: zt17\n",
      "I hereby certify that I have read the University policy on Academic Integrity and that I am not in violation.\n"
     ]
    }
   ],
   "source": [
    "print(\"My name is Zhicheng Tang\")\n",
    "print(\"My NetID is: zt17\")\n",
    "print(\"I hereby certify that I have read the University policy on Academic Integrity and that I am not in violation.\")"
   ]
  }
 ],
 "metadata": {
  "kernelspec": {
   "display_name": "Python 3 (ipykernel)",
   "language": "python",
   "name": "python3"
  },
  "language_info": {
   "codemirror_mode": {
    "name": "ipython",
    "version": 3
   },
   "file_extension": ".py",
   "mimetype": "text/x-python",
   "name": "python",
   "nbconvert_exporter": "python",
   "pygments_lexer": "ipython3",
   "version": "3.9.7"
  }
 },
 "nbformat": 4,
 "nbformat_minor": 5
}
